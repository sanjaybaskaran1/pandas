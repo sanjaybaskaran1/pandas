{
 "cells": [
  {
   "cell_type": "code",
   "execution_count": 30,
   "id": "4e7f9ae1",
   "metadata": {},
   "outputs": [
    {
     "data": {
      "text/html": [
       "<div>\n",
       "<style scoped>\n",
       "    .dataframe tbody tr th:only-of-type {\n",
       "        vertical-align: middle;\n",
       "    }\n",
       "\n",
       "    .dataframe tbody tr th {\n",
       "        vertical-align: top;\n",
       "    }\n",
       "\n",
       "    .dataframe thead th {\n",
       "        text-align: right;\n",
       "    }\n",
       "</style>\n",
       "<table border=\"1\" class=\"dataframe\">\n",
       "  <thead>\n",
       "    <tr style=\"text-align: right;\">\n",
       "      <th></th>\n",
       "      <th>Name</th>\n",
       "      <th>Age</th>\n",
       "      <th>Salary</th>\n",
       "      <th>Department</th>\n",
       "    </tr>\n",
       "  </thead>\n",
       "  <tbody>\n",
       "    <tr>\n",
       "      <th>0</th>\n",
       "      <td>jaanu</td>\n",
       "      <td>22</td>\n",
       "      <td>50000</td>\n",
       "      <td>HR</td>\n",
       "    </tr>\n",
       "    <tr>\n",
       "      <th>1</th>\n",
       "      <td>lavanya</td>\n",
       "      <td>20</td>\n",
       "      <td>60000</td>\n",
       "      <td>IT</td>\n",
       "    </tr>\n",
       "    <tr>\n",
       "      <th>2</th>\n",
       "      <td>brayer</td>\n",
       "      <td>25</td>\n",
       "      <td>70000</td>\n",
       "      <td>Finance</td>\n",
       "    </tr>\n",
       "    <tr>\n",
       "      <th>3</th>\n",
       "      <td>lakshith</td>\n",
       "      <td>19</td>\n",
       "      <td>80000</td>\n",
       "      <td>IT</td>\n",
       "    </tr>\n",
       "    <tr>\n",
       "      <th>4</th>\n",
       "      <td>bakey</td>\n",
       "      <td>29</td>\n",
       "      <td>55000</td>\n",
       "      <td>HR</td>\n",
       "    </tr>\n",
       "  </tbody>\n",
       "</table>\n",
       "</div>"
      ],
      "text/plain": [
       "       Name  Age  Salary Department\n",
       "0     jaanu   22   50000         HR\n",
       "1   lavanya   20   60000         IT\n",
       "2    brayer   25   70000    Finance\n",
       "3  lakshith   19   80000         IT\n",
       "4     bakey   29   55000         HR"
      ]
     },
     "execution_count": 30,
     "metadata": {},
     "output_type": "execute_result"
    }
   ],
   "source": [
    "import pandas as pd\n",
    "import numpy as np\n",
    "\n",
    "# Sample DataFrame\n",
    "data = {\n",
    "    'Name': ['jaanu', 'lavanya', 'brayer', 'lakshith', 'bakey'],\n",
    "    'Age': [22, 20, 25, 19, 29],\n",
    "    'Salary': [50000, 60000, 70000, 80000, 55000],\n",
    "    'Department': ['HR', 'IT', 'Finance', 'IT', 'HR']\n",
    "}\n",
    "\n",
    "df = pd.DataFrame(data)\n",
    "df"
   ]
  },
  {
   "cell_type": "code",
   "execution_count": 31,
   "id": "17f711e5",
   "metadata": {},
   "outputs": [
    {
     "data": {
      "text/plain": [
       "0    50000\n",
       "1    60000\n",
       "2    70000\n",
       "3    80000\n",
       "4    55000\n",
       "Name: Salary, dtype: int64"
      ]
     },
     "execution_count": 31,
     "metadata": {},
     "output_type": "execute_result"
    }
   ],
   "source": [
    "df['Salary']"
   ]
  },
  {
   "cell_type": "code",
   "execution_count": 32,
   "id": "3d4af1c2",
   "metadata": {},
   "outputs": [
    {
     "data": {
      "text/plain": [
       "25000.0"
      ]
     },
     "execution_count": 32,
     "metadata": {},
     "output_type": "execute_result"
    }
   ],
   "source": [
    "(lambda x : x*0.50)(x=50000)"
   ]
  },
  {
   "cell_type": "code",
   "execution_count": 33,
   "id": "f0c011d0",
   "metadata": {},
   "outputs": [
    {
     "name": "stdout",
     "output_type": "stream",
     "text": [
      "15000.0\n"
     ]
    },
    {
     "data": {
      "text/plain": [
       "30000.0"
      ]
     },
     "execution_count": 33,
     "metadata": {},
     "output_type": "execute_result"
    }
   ],
   "source": [
    "bonus = (lambda x : x*0.30)\n",
    "print(bonus(x=50000))\n",
    "bonus(100000)                       "
   ]
  },
  {
   "cell_type": "code",
   "execution_count": 34,
   "id": "a286ce87",
   "metadata": {},
   "outputs": [
    {
     "data": {
      "text/plain": [
       "0    15000.0\n",
       "1    18000.0\n",
       "2    21000.0\n",
       "3    24000.0\n",
       "4    16500.0\n",
       "Name: Salary, dtype: float64"
      ]
     },
     "execution_count": 34,
     "metadata": {},
     "output_type": "execute_result"
    }
   ],
   "source": [
    "df['Salary'].apply(lambda salary: salary*(30/100))"
   ]
  },
  {
   "cell_type": "code",
   "execution_count": 35,
   "id": "37001a5a",
   "metadata": {},
   "outputs": [
    {
     "data": {
      "text/html": [
       "<div>\n",
       "<style scoped>\n",
       "    .dataframe tbody tr th:only-of-type {\n",
       "        vertical-align: middle;\n",
       "    }\n",
       "\n",
       "    .dataframe tbody tr th {\n",
       "        vertical-align: top;\n",
       "    }\n",
       "\n",
       "    .dataframe thead th {\n",
       "        text-align: right;\n",
       "    }\n",
       "</style>\n",
       "<table border=\"1\" class=\"dataframe\">\n",
       "  <thead>\n",
       "    <tr style=\"text-align: right;\">\n",
       "      <th></th>\n",
       "      <th>Name</th>\n",
       "      <th>Age</th>\n",
       "      <th>Salary</th>\n",
       "      <th>Department</th>\n",
       "      <th>Bonus</th>\n",
       "    </tr>\n",
       "  </thead>\n",
       "  <tbody>\n",
       "    <tr>\n",
       "      <th>0</th>\n",
       "      <td>jaanu</td>\n",
       "      <td>22</td>\n",
       "      <td>50000</td>\n",
       "      <td>HR</td>\n",
       "      <td>15000.0</td>\n",
       "    </tr>\n",
       "    <tr>\n",
       "      <th>1</th>\n",
       "      <td>lavanya</td>\n",
       "      <td>20</td>\n",
       "      <td>60000</td>\n",
       "      <td>IT</td>\n",
       "      <td>18000.0</td>\n",
       "    </tr>\n",
       "    <tr>\n",
       "      <th>2</th>\n",
       "      <td>brayer</td>\n",
       "      <td>25</td>\n",
       "      <td>70000</td>\n",
       "      <td>Finance</td>\n",
       "      <td>21000.0</td>\n",
       "    </tr>\n",
       "    <tr>\n",
       "      <th>3</th>\n",
       "      <td>lakshith</td>\n",
       "      <td>19</td>\n",
       "      <td>80000</td>\n",
       "      <td>IT</td>\n",
       "      <td>24000.0</td>\n",
       "    </tr>\n",
       "    <tr>\n",
       "      <th>4</th>\n",
       "      <td>bakey</td>\n",
       "      <td>29</td>\n",
       "      <td>55000</td>\n",
       "      <td>HR</td>\n",
       "      <td>16500.0</td>\n",
       "    </tr>\n",
       "  </tbody>\n",
       "</table>\n",
       "</div>"
      ],
      "text/plain": [
       "       Name  Age  Salary Department    Bonus\n",
       "0     jaanu   22   50000         HR  15000.0\n",
       "1   lavanya   20   60000         IT  18000.0\n",
       "2    brayer   25   70000    Finance  21000.0\n",
       "3  lakshith   19   80000         IT  24000.0\n",
       "4     bakey   29   55000         HR  16500.0"
      ]
     },
     "execution_count": 35,
     "metadata": {},
     "output_type": "execute_result"
    }
   ],
   "source": [
    "df['Bonus'] = df['Salary'].apply(lambda salary: salary*(30/100))\n",
    "df"
   ]
  },
  {
   "cell_type": "code",
   "execution_count": 36,
   "id": "28403e86",
   "metadata": {},
   "outputs": [
    {
     "data": {
      "text/plain": [
       "0    50000\n",
       "1    60000\n",
       "2    70000\n",
       "3    80000\n",
       "4    55000\n",
       "Name: Salary, dtype: int64"
      ]
     },
     "execution_count": 36,
     "metadata": {},
     "output_type": "execute_result"
    }
   ],
   "source": [
    "df['Salary']"
   ]
  },
  {
   "cell_type": "code",
   "execution_count": 37,
   "id": "46ea4443",
   "metadata": {},
   "outputs": [],
   "source": [
    "df[\"Bonus\"]=[round(sal*0.30) for sal in df['Salary']]"
   ]
  },
  {
   "cell_type": "code",
   "execution_count": 38,
   "id": "7936a1c1",
   "metadata": {},
   "outputs": [
    {
     "data": {
      "text/html": [
       "<div>\n",
       "<style scoped>\n",
       "    .dataframe tbody tr th:only-of-type {\n",
       "        vertical-align: middle;\n",
       "    }\n",
       "\n",
       "    .dataframe tbody tr th {\n",
       "        vertical-align: top;\n",
       "    }\n",
       "\n",
       "    .dataframe thead th {\n",
       "        text-align: right;\n",
       "    }\n",
       "</style>\n",
       "<table border=\"1\" class=\"dataframe\">\n",
       "  <thead>\n",
       "    <tr style=\"text-align: right;\">\n",
       "      <th></th>\n",
       "      <th>Name</th>\n",
       "      <th>Age</th>\n",
       "      <th>Salary</th>\n",
       "      <th>Department</th>\n",
       "      <th>Bonus</th>\n",
       "    </tr>\n",
       "  </thead>\n",
       "  <tbody>\n",
       "    <tr>\n",
       "      <th>0</th>\n",
       "      <td>jaanu</td>\n",
       "      <td>22</td>\n",
       "      <td>50000</td>\n",
       "      <td>HR</td>\n",
       "      <td>15000</td>\n",
       "    </tr>\n",
       "    <tr>\n",
       "      <th>1</th>\n",
       "      <td>lavanya</td>\n",
       "      <td>20</td>\n",
       "      <td>60000</td>\n",
       "      <td>IT</td>\n",
       "      <td>18000</td>\n",
       "    </tr>\n",
       "    <tr>\n",
       "      <th>2</th>\n",
       "      <td>brayer</td>\n",
       "      <td>25</td>\n",
       "      <td>70000</td>\n",
       "      <td>Finance</td>\n",
       "      <td>21000</td>\n",
       "    </tr>\n",
       "    <tr>\n",
       "      <th>3</th>\n",
       "      <td>lakshith</td>\n",
       "      <td>19</td>\n",
       "      <td>80000</td>\n",
       "      <td>IT</td>\n",
       "      <td>24000</td>\n",
       "    </tr>\n",
       "    <tr>\n",
       "      <th>4</th>\n",
       "      <td>bakey</td>\n",
       "      <td>29</td>\n",
       "      <td>55000</td>\n",
       "      <td>HR</td>\n",
       "      <td>16500</td>\n",
       "    </tr>\n",
       "  </tbody>\n",
       "</table>\n",
       "</div>"
      ],
      "text/plain": [
       "       Name  Age  Salary Department  Bonus\n",
       "0     jaanu   22   50000         HR  15000\n",
       "1   lavanya   20   60000         IT  18000\n",
       "2    brayer   25   70000    Finance  21000\n",
       "3  lakshith   19   80000         IT  24000\n",
       "4     bakey   29   55000         HR  16500"
      ]
     },
     "execution_count": 38,
     "metadata": {},
     "output_type": "execute_result"
    }
   ],
   "source": [
    "df"
   ]
  },
  {
   "cell_type": "code",
   "execution_count": 39,
   "id": "cc7aa1d2",
   "metadata": {},
   "outputs": [
    {
     "data": {
      "text/plain": [
       "0       JAANU\n",
       "1     LAVANYA\n",
       "2      BRAYER\n",
       "3    LAKSHITH\n",
       "4       BAKEY\n",
       "Name: Name, dtype: object"
      ]
     },
     "execution_count": 39,
     "metadata": {},
     "output_type": "execute_result"
    }
   ],
   "source": [
    "df[\"Name\"].apply(str.upper)"
   ]
  },
  {
   "cell_type": "code",
   "execution_count": 40,
   "id": "65994b36",
   "metadata": {},
   "outputs": [],
   "source": [
    "df[\"Name\"] = df[\"Name\"].apply(str.upper)"
   ]
  },
  {
   "cell_type": "code",
   "execution_count": 41,
   "id": "0a07ddbe",
   "metadata": {},
   "outputs": [
    {
     "data": {
      "text/html": [
       "<div>\n",
       "<style scoped>\n",
       "    .dataframe tbody tr th:only-of-type {\n",
       "        vertical-align: middle;\n",
       "    }\n",
       "\n",
       "    .dataframe tbody tr th {\n",
       "        vertical-align: top;\n",
       "    }\n",
       "\n",
       "    .dataframe thead th {\n",
       "        text-align: right;\n",
       "    }\n",
       "</style>\n",
       "<table border=\"1\" class=\"dataframe\">\n",
       "  <thead>\n",
       "    <tr style=\"text-align: right;\">\n",
       "      <th></th>\n",
       "      <th>Name</th>\n",
       "      <th>Age</th>\n",
       "      <th>Salary</th>\n",
       "      <th>Department</th>\n",
       "      <th>Bonus</th>\n",
       "    </tr>\n",
       "  </thead>\n",
       "  <tbody>\n",
       "    <tr>\n",
       "      <th>0</th>\n",
       "      <td>JAANU</td>\n",
       "      <td>22</td>\n",
       "      <td>50000</td>\n",
       "      <td>HR</td>\n",
       "      <td>15000</td>\n",
       "    </tr>\n",
       "    <tr>\n",
       "      <th>1</th>\n",
       "      <td>LAVANYA</td>\n",
       "      <td>20</td>\n",
       "      <td>60000</td>\n",
       "      <td>IT</td>\n",
       "      <td>18000</td>\n",
       "    </tr>\n",
       "    <tr>\n",
       "      <th>2</th>\n",
       "      <td>BRAYER</td>\n",
       "      <td>25</td>\n",
       "      <td>70000</td>\n",
       "      <td>Finance</td>\n",
       "      <td>21000</td>\n",
       "    </tr>\n",
       "    <tr>\n",
       "      <th>3</th>\n",
       "      <td>LAKSHITH</td>\n",
       "      <td>19</td>\n",
       "      <td>80000</td>\n",
       "      <td>IT</td>\n",
       "      <td>24000</td>\n",
       "    </tr>\n",
       "    <tr>\n",
       "      <th>4</th>\n",
       "      <td>BAKEY</td>\n",
       "      <td>29</td>\n",
       "      <td>55000</td>\n",
       "      <td>HR</td>\n",
       "      <td>16500</td>\n",
       "    </tr>\n",
       "  </tbody>\n",
       "</table>\n",
       "</div>"
      ],
      "text/plain": [
       "       Name  Age  Salary Department  Bonus\n",
       "0     JAANU   22   50000         HR  15000\n",
       "1   LAVANYA   20   60000         IT  18000\n",
       "2    BRAYER   25   70000    Finance  21000\n",
       "3  LAKSHITH   19   80000         IT  24000\n",
       "4     BAKEY   29   55000         HR  16500"
      ]
     },
     "execution_count": 41,
     "metadata": {},
     "output_type": "execute_result"
    }
   ],
   "source": [
    "df"
   ]
  },
  {
   "cell_type": "code",
   "execution_count": 42,
   "id": "740b1017",
   "metadata": {},
   "outputs": [],
   "source": [
    "df[\"Names Length\"] = df[\"Name\"].apply(len)"
   ]
  },
  {
   "cell_type": "code",
   "execution_count": 43,
   "id": "60885bb6",
   "metadata": {},
   "outputs": [
    {
     "data": {
      "text/html": [
       "<div>\n",
       "<style scoped>\n",
       "    .dataframe tbody tr th:only-of-type {\n",
       "        vertical-align: middle;\n",
       "    }\n",
       "\n",
       "    .dataframe tbody tr th {\n",
       "        vertical-align: top;\n",
       "    }\n",
       "\n",
       "    .dataframe thead th {\n",
       "        text-align: right;\n",
       "    }\n",
       "</style>\n",
       "<table border=\"1\" class=\"dataframe\">\n",
       "  <thead>\n",
       "    <tr style=\"text-align: right;\">\n",
       "      <th></th>\n",
       "      <th>Name</th>\n",
       "      <th>Age</th>\n",
       "      <th>Salary</th>\n",
       "      <th>Department</th>\n",
       "      <th>Bonus</th>\n",
       "      <th>Names Length</th>\n",
       "    </tr>\n",
       "  </thead>\n",
       "  <tbody>\n",
       "    <tr>\n",
       "      <th>0</th>\n",
       "      <td>JAANU</td>\n",
       "      <td>22</td>\n",
       "      <td>50000</td>\n",
       "      <td>HR</td>\n",
       "      <td>15000</td>\n",
       "      <td>5</td>\n",
       "    </tr>\n",
       "    <tr>\n",
       "      <th>1</th>\n",
       "      <td>LAVANYA</td>\n",
       "      <td>20</td>\n",
       "      <td>60000</td>\n",
       "      <td>IT</td>\n",
       "      <td>18000</td>\n",
       "      <td>7</td>\n",
       "    </tr>\n",
       "    <tr>\n",
       "      <th>2</th>\n",
       "      <td>BRAYER</td>\n",
       "      <td>25</td>\n",
       "      <td>70000</td>\n",
       "      <td>Finance</td>\n",
       "      <td>21000</td>\n",
       "      <td>6</td>\n",
       "    </tr>\n",
       "    <tr>\n",
       "      <th>3</th>\n",
       "      <td>LAKSHITH</td>\n",
       "      <td>19</td>\n",
       "      <td>80000</td>\n",
       "      <td>IT</td>\n",
       "      <td>24000</td>\n",
       "      <td>8</td>\n",
       "    </tr>\n",
       "    <tr>\n",
       "      <th>4</th>\n",
       "      <td>BAKEY</td>\n",
       "      <td>29</td>\n",
       "      <td>55000</td>\n",
       "      <td>HR</td>\n",
       "      <td>16500</td>\n",
       "      <td>5</td>\n",
       "    </tr>\n",
       "  </tbody>\n",
       "</table>\n",
       "</div>"
      ],
      "text/plain": [
       "       Name  Age  Salary Department  Bonus  Names Length\n",
       "0     JAANU   22   50000         HR  15000             5\n",
       "1   LAVANYA   20   60000         IT  18000             7\n",
       "2    BRAYER   25   70000    Finance  21000             6\n",
       "3  LAKSHITH   19   80000         IT  24000             8\n",
       "4     BAKEY   29   55000         HR  16500             5"
      ]
     },
     "execution_count": 43,
     "metadata": {},
     "output_type": "execute_result"
    }
   ],
   "source": [
    "df"
   ]
  },
  {
   "cell_type": "code",
   "execution_count": 44,
   "id": "886bba72",
   "metadata": {},
   "outputs": [
    {
     "name": "stderr",
     "output_type": "stream",
     "text": [
      "C:\\Users\\Sanjay\\AppData\\Local\\Temp\\ipykernel_17104\\2750781626.py:1: FutureWarning: DataFrame.applymap has been deprecated. Use DataFrame.map instead.\n",
      "  df[[\"Name\",\"Department\"]] = df[[\"Name\",\"Department\"]].applymap(str.lower)\n"
     ]
    },
    {
     "data": {
      "text/html": [
       "<div>\n",
       "<style scoped>\n",
       "    .dataframe tbody tr th:only-of-type {\n",
       "        vertical-align: middle;\n",
       "    }\n",
       "\n",
       "    .dataframe tbody tr th {\n",
       "        vertical-align: top;\n",
       "    }\n",
       "\n",
       "    .dataframe thead th {\n",
       "        text-align: right;\n",
       "    }\n",
       "</style>\n",
       "<table border=\"1\" class=\"dataframe\">\n",
       "  <thead>\n",
       "    <tr style=\"text-align: right;\">\n",
       "      <th></th>\n",
       "      <th>Name</th>\n",
       "      <th>Age</th>\n",
       "      <th>Salary</th>\n",
       "      <th>Department</th>\n",
       "      <th>Bonus</th>\n",
       "      <th>Names Length</th>\n",
       "    </tr>\n",
       "  </thead>\n",
       "  <tbody>\n",
       "    <tr>\n",
       "      <th>0</th>\n",
       "      <td>jaanu</td>\n",
       "      <td>22</td>\n",
       "      <td>50000</td>\n",
       "      <td>hr</td>\n",
       "      <td>15000</td>\n",
       "      <td>5</td>\n",
       "    </tr>\n",
       "    <tr>\n",
       "      <th>1</th>\n",
       "      <td>lavanya</td>\n",
       "      <td>20</td>\n",
       "      <td>60000</td>\n",
       "      <td>it</td>\n",
       "      <td>18000</td>\n",
       "      <td>7</td>\n",
       "    </tr>\n",
       "    <tr>\n",
       "      <th>2</th>\n",
       "      <td>brayer</td>\n",
       "      <td>25</td>\n",
       "      <td>70000</td>\n",
       "      <td>finance</td>\n",
       "      <td>21000</td>\n",
       "      <td>6</td>\n",
       "    </tr>\n",
       "    <tr>\n",
       "      <th>3</th>\n",
       "      <td>lakshith</td>\n",
       "      <td>19</td>\n",
       "      <td>80000</td>\n",
       "      <td>it</td>\n",
       "      <td>24000</td>\n",
       "      <td>8</td>\n",
       "    </tr>\n",
       "    <tr>\n",
       "      <th>4</th>\n",
       "      <td>bakey</td>\n",
       "      <td>29</td>\n",
       "      <td>55000</td>\n",
       "      <td>hr</td>\n",
       "      <td>16500</td>\n",
       "      <td>5</td>\n",
       "    </tr>\n",
       "  </tbody>\n",
       "</table>\n",
       "</div>"
      ],
      "text/plain": [
       "       Name  Age  Salary Department  Bonus  Names Length\n",
       "0     jaanu   22   50000         hr  15000             5\n",
       "1   lavanya   20   60000         it  18000             7\n",
       "2    brayer   25   70000    finance  21000             6\n",
       "3  lakshith   19   80000         it  24000             8\n",
       "4     bakey   29   55000         hr  16500             5"
      ]
     },
     "execution_count": 44,
     "metadata": {},
     "output_type": "execute_result"
    }
   ],
   "source": [
    "df[[\"Name\",\"Department\"]] = df[[\"Name\",\"Department\"]].applymap(str.lower)\n",
    "df"
   ]
  },
  {
   "cell_type": "code",
   "execution_count": 45,
   "id": "f4cdd842",
   "metadata": {},
   "outputs": [
    {
     "data": {
      "text/plain": [
       "['Name', 'Age', 'Salary', 'Department', 'Bonus', 'Names Length']"
      ]
     },
     "execution_count": 45,
     "metadata": {},
     "output_type": "execute_result"
    }
   ],
   "source": [
    "columns_list = df.columns.tolist()\n",
    "columns_list"
   ]
  },
  {
   "cell_type": "code",
   "execution_count": 46,
   "id": "2cb9a695",
   "metadata": {},
   "outputs": [
    {
     "data": {
      "text/plain": [
       "['name', 'age', 'salary', 'department', 'bonus', 'names length']"
      ]
     },
     "execution_count": 46,
     "metadata": {},
     "output_type": "execute_result"
    }
   ],
   "source": [
    "new_columns = [col.lower() for col in columns_list]\n",
    "new_columns"
   ]
  },
  {
   "cell_type": "code",
   "execution_count": 47,
   "id": "f78c8d51",
   "metadata": {},
   "outputs": [
    {
     "data": {
      "text/html": [
       "<div>\n",
       "<style scoped>\n",
       "    .dataframe tbody tr th:only-of-type {\n",
       "        vertical-align: middle;\n",
       "    }\n",
       "\n",
       "    .dataframe tbody tr th {\n",
       "        vertical-align: top;\n",
       "    }\n",
       "\n",
       "    .dataframe thead th {\n",
       "        text-align: right;\n",
       "    }\n",
       "</style>\n",
       "<table border=\"1\" class=\"dataframe\">\n",
       "  <thead>\n",
       "    <tr style=\"text-align: right;\">\n",
       "      <th></th>\n",
       "      <th>name</th>\n",
       "      <th>age</th>\n",
       "      <th>salary</th>\n",
       "      <th>department</th>\n",
       "      <th>bonus</th>\n",
       "      <th>names length</th>\n",
       "    </tr>\n",
       "  </thead>\n",
       "  <tbody>\n",
       "    <tr>\n",
       "      <th>0</th>\n",
       "      <td>jaanu</td>\n",
       "      <td>22</td>\n",
       "      <td>50000</td>\n",
       "      <td>hr</td>\n",
       "      <td>15000</td>\n",
       "      <td>5</td>\n",
       "    </tr>\n",
       "    <tr>\n",
       "      <th>1</th>\n",
       "      <td>lavanya</td>\n",
       "      <td>20</td>\n",
       "      <td>60000</td>\n",
       "      <td>it</td>\n",
       "      <td>18000</td>\n",
       "      <td>7</td>\n",
       "    </tr>\n",
       "    <tr>\n",
       "      <th>2</th>\n",
       "      <td>brayer</td>\n",
       "      <td>25</td>\n",
       "      <td>70000</td>\n",
       "      <td>finance</td>\n",
       "      <td>21000</td>\n",
       "      <td>6</td>\n",
       "    </tr>\n",
       "    <tr>\n",
       "      <th>3</th>\n",
       "      <td>lakshith</td>\n",
       "      <td>19</td>\n",
       "      <td>80000</td>\n",
       "      <td>it</td>\n",
       "      <td>24000</td>\n",
       "      <td>8</td>\n",
       "    </tr>\n",
       "    <tr>\n",
       "      <th>4</th>\n",
       "      <td>bakey</td>\n",
       "      <td>29</td>\n",
       "      <td>55000</td>\n",
       "      <td>hr</td>\n",
       "      <td>16500</td>\n",
       "      <td>5</td>\n",
       "    </tr>\n",
       "  </tbody>\n",
       "</table>\n",
       "</div>"
      ],
      "text/plain": [
       "       name  age  salary department  bonus  names length\n",
       "0     jaanu   22   50000         hr  15000             5\n",
       "1   lavanya   20   60000         it  18000             7\n",
       "2    brayer   25   70000    finance  21000             6\n",
       "3  lakshith   19   80000         it  24000             8\n",
       "4     bakey   29   55000         hr  16500             5"
      ]
     },
     "execution_count": 47,
     "metadata": {},
     "output_type": "execute_result"
    }
   ],
   "source": [
    "df.columns = new_columns\n",
    "df"
   ]
  },
  {
   "cell_type": "code",
   "execution_count": 48,
   "id": "571196a7",
   "metadata": {},
   "outputs": [
    {
     "data": {
      "text/html": [
       "<div>\n",
       "<style scoped>\n",
       "    .dataframe tbody tr th:only-of-type {\n",
       "        vertical-align: middle;\n",
       "    }\n",
       "\n",
       "    .dataframe tbody tr th {\n",
       "        vertical-align: top;\n",
       "    }\n",
       "\n",
       "    .dataframe thead th {\n",
       "        text-align: right;\n",
       "    }\n",
       "</style>\n",
       "<table border=\"1\" class=\"dataframe\">\n",
       "  <thead>\n",
       "    <tr style=\"text-align: right;\">\n",
       "      <th></th>\n",
       "      <th>name</th>\n",
       "      <th>age</th>\n",
       "      <th>salary</th>\n",
       "      <th>department</th>\n",
       "      <th>bonus</th>\n",
       "      <th>names length</th>\n",
       "    </tr>\n",
       "  </thead>\n",
       "  <tbody>\n",
       "    <tr>\n",
       "      <th>0</th>\n",
       "      <td>jaanu</td>\n",
       "      <td>22</td>\n",
       "      <td>50000</td>\n",
       "      <td>hr</td>\n",
       "      <td>15000</td>\n",
       "      <td>5</td>\n",
       "    </tr>\n",
       "    <tr>\n",
       "      <th>1</th>\n",
       "      <td>lavanya</td>\n",
       "      <td>20</td>\n",
       "      <td>60000</td>\n",
       "      <td>info tech</td>\n",
       "      <td>18000</td>\n",
       "      <td>7</td>\n",
       "    </tr>\n",
       "    <tr>\n",
       "      <th>2</th>\n",
       "      <td>brayer</td>\n",
       "      <td>25</td>\n",
       "      <td>70000</td>\n",
       "      <td>finance</td>\n",
       "      <td>21000</td>\n",
       "      <td>6</td>\n",
       "    </tr>\n",
       "    <tr>\n",
       "      <th>3</th>\n",
       "      <td>lakshith</td>\n",
       "      <td>19</td>\n",
       "      <td>80000</td>\n",
       "      <td>info tech</td>\n",
       "      <td>24000</td>\n",
       "      <td>8</td>\n",
       "    </tr>\n",
       "    <tr>\n",
       "      <th>4</th>\n",
       "      <td>bakey</td>\n",
       "      <td>29</td>\n",
       "      <td>55000</td>\n",
       "      <td>hr</td>\n",
       "      <td>16500</td>\n",
       "      <td>5</td>\n",
       "    </tr>\n",
       "  </tbody>\n",
       "</table>\n",
       "</div>"
      ],
      "text/plain": [
       "       name  age  salary department  bonus  names length\n",
       "0     jaanu   22   50000         hr  15000             5\n",
       "1   lavanya   20   60000  info tech  18000             7\n",
       "2    brayer   25   70000    finance  21000             6\n",
       "3  lakshith   19   80000  info tech  24000             8\n",
       "4     bakey   29   55000         hr  16500             5"
      ]
     },
     "execution_count": 48,
     "metadata": {},
     "output_type": "execute_result"
    }
   ],
   "source": [
    "filt = df['department'] == 'it'\n",
    "df.loc[filt,\"department\"] = \"info tech\"\n",
    "df"
   ]
  },
  {
   "cell_type": "code",
   "execution_count": 49,
   "id": "99554c1e",
   "metadata": {},
   "outputs": [
    {
     "data": {
      "text/plain": [
       "0           hr\n",
       "1    info tech\n",
       "2      finance\n",
       "3    info tech\n",
       "4           hr\n",
       "Name: department, dtype: object"
      ]
     },
     "execution_count": 49,
     "metadata": {},
     "output_type": "execute_result"
    }
   ],
   "source": [
    "df['department']"
   ]
  },
  {
   "cell_type": "code",
   "execution_count": 50,
   "id": "4db9ab47",
   "metadata": {},
   "outputs": [
    {
     "data": {
      "text/html": [
       "<div>\n",
       "<style scoped>\n",
       "    .dataframe tbody tr th:only-of-type {\n",
       "        vertical-align: middle;\n",
       "    }\n",
       "\n",
       "    .dataframe tbody tr th {\n",
       "        vertical-align: top;\n",
       "    }\n",
       "\n",
       "    .dataframe thead th {\n",
       "        text-align: right;\n",
       "    }\n",
       "</style>\n",
       "<table border=\"1\" class=\"dataframe\">\n",
       "  <thead>\n",
       "    <tr style=\"text-align: right;\">\n",
       "      <th></th>\n",
       "      <th>name</th>\n",
       "      <th>age</th>\n",
       "      <th>salary</th>\n",
       "      <th>department</th>\n",
       "      <th>bonus</th>\n",
       "      <th>names length</th>\n",
       "    </tr>\n",
       "  </thead>\n",
       "  <tbody>\n",
       "    <tr>\n",
       "      <th>0</th>\n",
       "      <td>jaanu</td>\n",
       "      <td>22</td>\n",
       "      <td>50000</td>\n",
       "      <td>hr</td>\n",
       "      <td>15000</td>\n",
       "      <td>5</td>\n",
       "    </tr>\n",
       "    <tr>\n",
       "      <th>1</th>\n",
       "      <td>lavanya</td>\n",
       "      <td>20</td>\n",
       "      <td>60000</td>\n",
       "      <td>it</td>\n",
       "      <td>18000</td>\n",
       "      <td>7</td>\n",
       "    </tr>\n",
       "    <tr>\n",
       "      <th>2</th>\n",
       "      <td>brayer</td>\n",
       "      <td>25</td>\n",
       "      <td>70000</td>\n",
       "      <td>sales</td>\n",
       "      <td>21000</td>\n",
       "      <td>6</td>\n",
       "    </tr>\n",
       "    <tr>\n",
       "      <th>3</th>\n",
       "      <td>lakshith</td>\n",
       "      <td>19</td>\n",
       "      <td>80000</td>\n",
       "      <td>it</td>\n",
       "      <td>24000</td>\n",
       "      <td>8</td>\n",
       "    </tr>\n",
       "    <tr>\n",
       "      <th>4</th>\n",
       "      <td>bakey</td>\n",
       "      <td>29</td>\n",
       "      <td>55000</td>\n",
       "      <td>hr</td>\n",
       "      <td>16500</td>\n",
       "      <td>5</td>\n",
       "    </tr>\n",
       "  </tbody>\n",
       "</table>\n",
       "</div>"
      ],
      "text/plain": [
       "       name  age  salary department  bonus  names length\n",
       "0     jaanu   22   50000         hr  15000             5\n",
       "1   lavanya   20   60000         it  18000             7\n",
       "2    brayer   25   70000      sales  21000             6\n",
       "3  lakshith   19   80000         it  24000             8\n",
       "4     bakey   29   55000         hr  16500             5"
      ]
     },
     "execution_count": 50,
     "metadata": {},
     "output_type": "execute_result"
    }
   ],
   "source": [
    "df['department'].replace({\"info tech\":\"it\", \"finance\":\"sales\"},inplace=True)\n",
    "df"
   ]
  },
  {
   "cell_type": "code",
   "execution_count": null,
   "id": "0ef91264",
   "metadata": {},
   "outputs": [],
   "source": []
  },
  {
   "cell_type": "code",
   "execution_count": null,
   "id": "4e189a9b",
   "metadata": {},
   "outputs": [],
   "source": []
  },
  {
   "cell_type": "code",
   "execution_count": null,
   "id": "4867c27b",
   "metadata": {},
   "outputs": [],
   "source": []
  },
  {
   "cell_type": "code",
   "execution_count": null,
   "id": "7e52ee15",
   "metadata": {},
   "outputs": [],
   "source": []
  },
  {
   "cell_type": "code",
   "execution_count": null,
   "id": "f5c7b16a",
   "metadata": {},
   "outputs": [],
   "source": []
  },
  {
   "cell_type": "code",
   "execution_count": null,
   "id": "bfb92362",
   "metadata": {},
   "outputs": [],
   "source": []
  },
  {
   "cell_type": "code",
   "execution_count": null,
   "id": "55fa9f09",
   "metadata": {},
   "outputs": [],
   "source": []
  },
  {
   "cell_type": "code",
   "execution_count": null,
   "id": "2e5e0194",
   "metadata": {},
   "outputs": [],
   "source": []
  }
 ],
 "metadata": {
  "kernelspec": {
   "display_name": "Python 3 (ipykernel)",
   "language": "python",
   "name": "python3"
  },
  "language_info": {
   "codemirror_mode": {
    "name": "ipython",
    "version": 3
   },
   "file_extension": ".py",
   "mimetype": "text/x-python",
   "name": "python",
   "nbconvert_exporter": "python",
   "pygments_lexer": "ipython3",
   "version": "3.12.4"
  }
 },
 "nbformat": 4,
 "nbformat_minor": 5
}

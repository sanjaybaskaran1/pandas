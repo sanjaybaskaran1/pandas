{
 "cells": [
  {
   "cell_type": "code",
   "execution_count": 3,
   "id": "7237c276-2834-481e-b8dc-82ebdac1a716",
   "metadata": {},
   "outputs": [],
   "source": [
    "\"\"\"group by\"\"\"\n",
    "import pandas as pd"
   ]
  },
  {
   "cell_type": "code",
   "execution_count": 2,
   "id": "c563ded0-4aa9-447d-b1ea-774523a5abaf",
   "metadata": {},
   "outputs": [
    {
     "data": {
      "text/html": [
       "<div>\n",
       "<style scoped>\n",
       "    .dataframe tbody tr th:only-of-type {\n",
       "        vertical-align: middle;\n",
       "    }\n",
       "\n",
       "    .dataframe tbody tr th {\n",
       "        vertical-align: top;\n",
       "    }\n",
       "\n",
       "    .dataframe thead th {\n",
       "        text-align: right;\n",
       "    }\n",
       "</style>\n",
       "<table border=\"1\" class=\"dataframe\">\n",
       "  <thead>\n",
       "    <tr style=\"text-align: right;\">\n",
       "      <th></th>\n",
       "      <th>Name</th>\n",
       "      <th>Grade</th>\n",
       "      <th>Test Score</th>\n",
       "    </tr>\n",
       "  </thead>\n",
       "  <tbody>\n",
       "    <tr>\n",
       "      <th>0</th>\n",
       "      <td>lavanya</td>\n",
       "      <td>A</td>\n",
       "      <td>80</td>\n",
       "    </tr>\n",
       "    <tr>\n",
       "      <th>1</th>\n",
       "      <td>jaanu</td>\n",
       "      <td>A</td>\n",
       "      <td>82</td>\n",
       "    </tr>\n",
       "    <tr>\n",
       "      <th>2</th>\n",
       "      <td>lakshith</td>\n",
       "      <td>B</td>\n",
       "      <td>75</td>\n",
       "    </tr>\n",
       "    <tr>\n",
       "      <th>3</th>\n",
       "      <td>dakshith</td>\n",
       "      <td>C</td>\n",
       "      <td>64</td>\n",
       "    </tr>\n",
       "    <tr>\n",
       "      <th>4</th>\n",
       "      <td>rio</td>\n",
       "      <td>B</td>\n",
       "      <td>72</td>\n",
       "    </tr>\n",
       "  </tbody>\n",
       "</table>\n",
       "</div>"
      ],
      "text/plain": [
       "       Name Grade  Test Score\n",
       "0   lavanya     A          80\n",
       "1     jaanu     A          82\n",
       "2  lakshith     B          75\n",
       "3  dakshith     C          64\n",
       "4       rio     B          72"
      ]
     },
     "execution_count": 2,
     "metadata": {},
     "output_type": "execute_result"
    }
   ],
   "source": [
    "marks_data = {\n",
    "    \"Name\" : ['lavanya','jaanu','lakshith','dakshith','rio'],\n",
    "    \"Grade\":['A','A','B','C','B'],\n",
    "    \"Test Score\":[80,82,75,64,72]\n",
    "}\n",
    "\n",
    "df = pd.DataFrame(data=marks_data)\n",
    "df"
   ]
  },
  {
   "cell_type": "code",
   "execution_count": 16,
   "id": "01ecf8bc-3bc0-4819-9c31-25628084a6be",
   "metadata": {},
   "outputs": [
    {
     "name": "stdout",
     "output_type": "stream",
     "text": [
      "<pandas.core.groupby.generic.DataFrameGroupBy object at 0x00000126E5AFFB60>\n"
     ]
    }
   ],
   "source": [
    "grade_grp = df.groupby(by='Grade')\n",
    "print(grade_grp)"
   ]
  },
  {
   "cell_type": "code",
   "execution_count": 27,
   "id": "947d9dd7-2a14-421b-8509-bcee150fe85d",
   "metadata": {},
   "outputs": [
    {
     "data": {
      "text/html": [
       "<div>\n",
       "<style scoped>\n",
       "    .dataframe tbody tr th:only-of-type {\n",
       "        vertical-align: middle;\n",
       "    }\n",
       "\n",
       "    .dataframe tbody tr th {\n",
       "        vertical-align: top;\n",
       "    }\n",
       "\n",
       "    .dataframe thead th {\n",
       "        text-align: right;\n",
       "    }\n",
       "</style>\n",
       "<table border=\"1\" class=\"dataframe\">\n",
       "  <thead>\n",
       "    <tr style=\"text-align: right;\">\n",
       "      <th></th>\n",
       "      <th>Name</th>\n",
       "      <th>Grade</th>\n",
       "      <th>Test Score</th>\n",
       "    </tr>\n",
       "  </thead>\n",
       "  <tbody>\n",
       "    <tr>\n",
       "      <th>0</th>\n",
       "      <td>lavanya</td>\n",
       "      <td>A</td>\n",
       "      <td>80</td>\n",
       "    </tr>\n",
       "    <tr>\n",
       "      <th>1</th>\n",
       "      <td>jaanu</td>\n",
       "      <td>A</td>\n",
       "      <td>82</td>\n",
       "    </tr>\n",
       "  </tbody>\n",
       "</table>\n",
       "</div>"
      ],
      "text/plain": [
       "      Name Grade  Test Score\n",
       "0  lavanya     A          80\n",
       "1    jaanu     A          82"
      ]
     },
     "execution_count": 27,
     "metadata": {},
     "output_type": "execute_result"
    }
   ],
   "source": [
    "grade_grp.get_group('A')"
   ]
  },
  {
   "cell_type": "code",
   "execution_count": 28,
   "id": "f4a27498-f6e6-465f-aec3-2d0ad07d5e9c",
   "metadata": {},
   "outputs": [
    {
     "data": {
      "text/html": [
       "<div>\n",
       "<style scoped>\n",
       "    .dataframe tbody tr th:only-of-type {\n",
       "        vertical-align: middle;\n",
       "    }\n",
       "\n",
       "    .dataframe tbody tr th {\n",
       "        vertical-align: top;\n",
       "    }\n",
       "\n",
       "    .dataframe thead th {\n",
       "        text-align: right;\n",
       "    }\n",
       "</style>\n",
       "<table border=\"1\" class=\"dataframe\">\n",
       "  <thead>\n",
       "    <tr style=\"text-align: right;\">\n",
       "      <th></th>\n",
       "      <th>Name</th>\n",
       "      <th>Grade</th>\n",
       "      <th>Test Score</th>\n",
       "    </tr>\n",
       "  </thead>\n",
       "  <tbody>\n",
       "    <tr>\n",
       "      <th>2</th>\n",
       "      <td>lakshith</td>\n",
       "      <td>B</td>\n",
       "      <td>75</td>\n",
       "    </tr>\n",
       "    <tr>\n",
       "      <th>4</th>\n",
       "      <td>rio</td>\n",
       "      <td>B</td>\n",
       "      <td>72</td>\n",
       "    </tr>\n",
       "  </tbody>\n",
       "</table>\n",
       "</div>"
      ],
      "text/plain": [
       "       Name Grade  Test Score\n",
       "2  lakshith     B          75\n",
       "4       rio     B          72"
      ]
     },
     "execution_count": 28,
     "metadata": {},
     "output_type": "execute_result"
    }
   ],
   "source": [
    "grade_grp.get_group('B')"
   ]
  },
  {
   "cell_type": "code",
   "execution_count": 29,
   "id": "7cda3438-04a6-4ebf-9b60-b134a24385bd",
   "metadata": {},
   "outputs": [
    {
     "data": {
      "text/html": [
       "<div>\n",
       "<style scoped>\n",
       "    .dataframe tbody tr th:only-of-type {\n",
       "        vertical-align: middle;\n",
       "    }\n",
       "\n",
       "    .dataframe tbody tr th {\n",
       "        vertical-align: top;\n",
       "    }\n",
       "\n",
       "    .dataframe thead th {\n",
       "        text-align: right;\n",
       "    }\n",
       "</style>\n",
       "<table border=\"1\" class=\"dataframe\">\n",
       "  <thead>\n",
       "    <tr style=\"text-align: right;\">\n",
       "      <th></th>\n",
       "      <th>Name</th>\n",
       "      <th>Grade</th>\n",
       "      <th>Test Score</th>\n",
       "    </tr>\n",
       "  </thead>\n",
       "  <tbody>\n",
       "    <tr>\n",
       "      <th>3</th>\n",
       "      <td>dakshith</td>\n",
       "      <td>C</td>\n",
       "      <td>64</td>\n",
       "    </tr>\n",
       "  </tbody>\n",
       "</table>\n",
       "</div>"
      ],
      "text/plain": [
       "       Name Grade  Test Score\n",
       "3  dakshith     C          64"
      ]
     },
     "execution_count": 29,
     "metadata": {},
     "output_type": "execute_result"
    }
   ],
   "source": [
    "grade_grp.get_group('C')"
   ]
  },
  {
   "cell_type": "code",
   "execution_count": 17,
   "id": "884ca6f3-f86a-42a5-b953-2830a5c6e0ee",
   "metadata": {},
   "outputs": [
    {
     "name": "stdout",
     "output_type": "stream",
     "text": [
      "A\n",
      "      Name Grade  Test Score\n",
      "0  lavanya     A          80\n",
      "1    jaanu     A          82\n",
      "-------------------------------------------------\n",
      "B\n",
      "       Name Grade  Test Score\n",
      "2  lakshith     B          75\n",
      "4       rio     B          72\n",
      "-------------------------------------------------\n",
      "C\n",
      "       Name Grade  Test Score\n",
      "3  dakshith     C          64\n",
      "-------------------------------------------------\n"
     ]
    }
   ],
   "source": [
    "for i,j in grade_grp:\n",
    "    print(i)\n",
    "    print(j)\n",
    "    print('-------------------------------------------------')"
   ]
  },
  {
   "cell_type": "code",
   "execution_count": 19,
   "id": "ab2f233b-6dad-4ae5-8b7f-5f7e2191db0a",
   "metadata": {},
   "outputs": [
    {
     "data": {
      "text/plain": [
       "Grade\n",
       "A    162\n",
       "B    147\n",
       "C     64\n",
       "Name: Test Score, dtype: int64"
      ]
     },
     "execution_count": 19,
     "metadata": {},
     "output_type": "execute_result"
    }
   ],
   "source": [
    "grade_grp['Test Score'].sum()"
   ]
  },
  {
   "cell_type": "code",
   "execution_count": 20,
   "id": "fea53905-77b0-4a5c-9b65-8e732004a974",
   "metadata": {},
   "outputs": [
    {
     "data": {
      "text/plain": [
       "Grade\n",
       "A    82\n",
       "B    75\n",
       "C    64\n",
       "Name: Test Score, dtype: int64"
      ]
     },
     "execution_count": 20,
     "metadata": {},
     "output_type": "execute_result"
    }
   ],
   "source": [
    "grade_grp['Test Score'].max()"
   ]
  },
  {
   "cell_type": "code",
   "execution_count": 21,
   "id": "48a2ce75-9d79-4c4c-9edc-950edb282245",
   "metadata": {},
   "outputs": [
    {
     "data": {
      "text/plain": [
       "Grade\n",
       "A    80\n",
       "B    72\n",
       "C    64\n",
       "Name: Test Score, dtype: int64"
      ]
     },
     "execution_count": 21,
     "metadata": {},
     "output_type": "execute_result"
    }
   ],
   "source": [
    "grade_grp['Test Score'].min()"
   ]
  },
  {
   "cell_type": "code",
   "execution_count": 23,
   "id": "6028d4ec-c639-43fd-83f7-c0f4b9bc73d7",
   "metadata": {},
   "outputs": [
    {
     "data": {
      "text/plain": [
       "Grade\n",
       "A    81.0\n",
       "B    73.5\n",
       "C    64.0\n",
       "Name: Test Score, dtype: float64"
      ]
     },
     "execution_count": 23,
     "metadata": {},
     "output_type": "execute_result"
    }
   ],
   "source": [
    "grade_grp['Test Score'].median()"
   ]
  },
  {
   "cell_type": "code",
   "execution_count": 24,
   "id": "78800938-66e3-4e71-bb5a-8ac941ba90a6",
   "metadata": {},
   "outputs": [
    {
     "data": {
      "text/plain": [
       "Grade\n",
       "A    81.0\n",
       "B    73.5\n",
       "C    64.0\n",
       "Name: Test Score, dtype: float64"
      ]
     },
     "execution_count": 24,
     "metadata": {},
     "output_type": "execute_result"
    }
   ],
   "source": [
    "grade_grp['Test Score'].mean()"
   ]
  },
  {
   "cell_type": "code",
   "execution_count": 26,
   "id": "27370bad-a003-454a-9a7c-8034382422a4",
   "metadata": {},
   "outputs": [
    {
     "data": {
      "text/plain": [
       "Grade\n",
       "A    2\n",
       "B    2\n",
       "C    1\n",
       "Name: Name, dtype: int64"
      ]
     },
     "execution_count": 26,
     "metadata": {},
     "output_type": "execute_result"
    }
   ],
   "source": [
    "grade_grp['Name'].count()"
   ]
  },
  {
   "cell_type": "code",
   "execution_count": 9,
   "id": "c5606bac-9afe-4488-bfbf-3507ba958b42",
   "metadata": {},
   "outputs": [
    {
     "data": {
      "text/html": [
       "<div>\n",
       "<style scoped>\n",
       "    .dataframe tbody tr th:only-of-type {\n",
       "        vertical-align: middle;\n",
       "    }\n",
       "\n",
       "    .dataframe tbody tr th {\n",
       "        vertical-align: top;\n",
       "    }\n",
       "\n",
       "    .dataframe thead th {\n",
       "        text-align: right;\n",
       "    }\n",
       "</style>\n",
       "<table border=\"1\" class=\"dataframe\">\n",
       "  <thead>\n",
       "    <tr style=\"text-align: right;\">\n",
       "      <th></th>\n",
       "      <th>Name</th>\n",
       "      <th>Grade</th>\n",
       "      <th>Subject</th>\n",
       "      <th>Test Score</th>\n",
       "    </tr>\n",
       "  </thead>\n",
       "  <tbody>\n",
       "    <tr>\n",
       "      <th>0</th>\n",
       "      <td>zoya</td>\n",
       "      <td>B</td>\n",
       "      <td>tamil</td>\n",
       "      <td>75</td>\n",
       "    </tr>\n",
       "    <tr>\n",
       "      <th>1</th>\n",
       "      <td>lavanya</td>\n",
       "      <td>A</td>\n",
       "      <td>tamil</td>\n",
       "      <td>80</td>\n",
       "    </tr>\n",
       "    <tr>\n",
       "      <th>2</th>\n",
       "      <td>anny</td>\n",
       "      <td>A</td>\n",
       "      <td>maths</td>\n",
       "      <td>88</td>\n",
       "    </tr>\n",
       "    <tr>\n",
       "      <th>3</th>\n",
       "      <td>jaanu</td>\n",
       "      <td>A</td>\n",
       "      <td>maths</td>\n",
       "      <td>82</td>\n",
       "    </tr>\n",
       "    <tr>\n",
       "      <th>4</th>\n",
       "      <td>lakshith</td>\n",
       "      <td>B</td>\n",
       "      <td>tamil</td>\n",
       "      <td>75</td>\n",
       "    </tr>\n",
       "    <tr>\n",
       "      <th>5</th>\n",
       "      <td>shalini</td>\n",
       "      <td>B</td>\n",
       "      <td>maths</td>\n",
       "      <td>77</td>\n",
       "    </tr>\n",
       "    <tr>\n",
       "      <th>6</th>\n",
       "      <td>dakshith</td>\n",
       "      <td>C</td>\n",
       "      <td>science</td>\n",
       "      <td>64</td>\n",
       "    </tr>\n",
       "    <tr>\n",
       "      <th>7</th>\n",
       "      <td>rio</td>\n",
       "      <td>B</td>\n",
       "      <td>maths</td>\n",
       "      <td>72</td>\n",
       "    </tr>\n",
       "    <tr>\n",
       "      <th>8</th>\n",
       "      <td>chottu</td>\n",
       "      <td>A</td>\n",
       "      <td>tamil</td>\n",
       "      <td>89</td>\n",
       "    </tr>\n",
       "  </tbody>\n",
       "</table>\n",
       "</div>"
      ],
      "text/plain": [
       "       Name Grade  Subject  Test Score\n",
       "0      zoya     B    tamil          75\n",
       "1   lavanya     A    tamil          80\n",
       "2      anny     A    maths          88\n",
       "3     jaanu     A    maths          82\n",
       "4  lakshith     B    tamil          75\n",
       "5   shalini     B    maths          77\n",
       "6  dakshith     C  science          64\n",
       "7       rio     B    maths          72\n",
       "8    chottu     A    tamil          89"
      ]
     },
     "execution_count": 9,
     "metadata": {},
     "output_type": "execute_result"
    }
   ],
   "source": [
    "marks_data = {\n",
    "    \"Name\" : ['zoya','lavanya','anny','jaanu','lakshith','shalini','dakshith','rio','chottu'],\n",
    "    \"Grade\":['B','A','A','A','B','B','C','B','A'],\n",
    "    \"Subject\":['tamil','tamil','maths','maths','tamil','maths','science','maths','tamil'],\n",
    "    \"Test Score\":[75,80,88,82,75,77,64,72,89]\n",
    "}\n",
    "\n",
    "df2 = pd.DataFrame(data=marks_data)\n",
    "df2"
   ]
  },
  {
   "cell_type": "code",
   "execution_count": 10,
   "id": "c79f610a-e266-4551-8367-c054f97e47cf",
   "metadata": {},
   "outputs": [
    {
     "data": {
      "text/plain": [
       "<pandas.core.groupby.generic.DataFrameGroupBy object at 0x00000203908EEDE0>"
      ]
     },
     "execution_count": 10,
     "metadata": {},
     "output_type": "execute_result"
    }
   ],
   "source": [
    "group2 = df2.groupby(by=[\"Grade\",\"Subject\"])\n",
    "group2"
   ]
  },
  {
   "cell_type": "code",
   "execution_count": 11,
   "id": "71f893f1-88f4-4eee-b4c5-acee809213b0",
   "metadata": {},
   "outputs": [
    {
     "name": "stdout",
     "output_type": "stream",
     "text": [
      "('A', 'maths')\n",
      "    Name Grade Subject  Test Score\n",
      "2   anny     A   maths          88\n",
      "3  jaanu     A   maths          82\n",
      "--------------------------------------\n",
      "('A', 'tamil')\n",
      "      Name Grade Subject  Test Score\n",
      "1  lavanya     A   tamil          80\n",
      "8   chottu     A   tamil          89\n",
      "--------------------------------------\n",
      "('B', 'maths')\n",
      "      Name Grade Subject  Test Score\n",
      "5  shalini     B   maths          77\n",
      "7      rio     B   maths          72\n",
      "--------------------------------------\n",
      "('B', 'tamil')\n",
      "       Name Grade Subject  Test Score\n",
      "0      zoya     B   tamil          75\n",
      "4  lakshith     B   tamil          75\n",
      "--------------------------------------\n",
      "('C', 'science')\n",
      "       Name Grade  Subject  Test Score\n",
      "6  dakshith     C  science          64\n",
      "--------------------------------------\n"
     ]
    }
   ],
   "source": [
    "for i,j in group2:\n",
    "    print(i)\n",
    "    print(j)\n",
    "    print('--------------------------------------')"
   ]
  },
  {
   "cell_type": "code",
   "execution_count": 12,
   "id": "cecadf77-c5be-45f8-bd72-9cd07dd7cd11",
   "metadata": {},
   "outputs": [
    {
     "data": {
      "text/html": [
       "<div>\n",
       "<style scoped>\n",
       "    .dataframe tbody tr th:only-of-type {\n",
       "        vertical-align: middle;\n",
       "    }\n",
       "\n",
       "    .dataframe tbody tr th {\n",
       "        vertical-align: top;\n",
       "    }\n",
       "\n",
       "    .dataframe thead th {\n",
       "        text-align: right;\n",
       "    }\n",
       "</style>\n",
       "<table border=\"1\" class=\"dataframe\">\n",
       "  <thead>\n",
       "    <tr style=\"text-align: right;\">\n",
       "      <th></th>\n",
       "      <th>Name</th>\n",
       "      <th>Grade</th>\n",
       "      <th>Subject</th>\n",
       "      <th>Test Score</th>\n",
       "    </tr>\n",
       "  </thead>\n",
       "  <tbody>\n",
       "    <tr>\n",
       "      <th>2</th>\n",
       "      <td>anny</td>\n",
       "      <td>A</td>\n",
       "      <td>maths</td>\n",
       "      <td>88</td>\n",
       "    </tr>\n",
       "    <tr>\n",
       "      <th>3</th>\n",
       "      <td>jaanu</td>\n",
       "      <td>A</td>\n",
       "      <td>maths</td>\n",
       "      <td>82</td>\n",
       "    </tr>\n",
       "  </tbody>\n",
       "</table>\n",
       "</div>"
      ],
      "text/plain": [
       "    Name Grade Subject  Test Score\n",
       "2   anny     A   maths          88\n",
       "3  jaanu     A   maths          82"
      ]
     },
     "execution_count": 12,
     "metadata": {},
     "output_type": "execute_result"
    }
   ],
   "source": [
    "group2.get_group(('A','maths'))"
   ]
  },
  {
   "cell_type": "code",
   "execution_count": 17,
   "id": "e4807c7c-e5cd-47f2-9aae-7a91ec1e1e95",
   "metadata": {},
   "outputs": [
    {
     "data": {
      "text/html": [
       "<div>\n",
       "<style scoped>\n",
       "    .dataframe tbody tr th:only-of-type {\n",
       "        vertical-align: middle;\n",
       "    }\n",
       "\n",
       "    .dataframe tbody tr th {\n",
       "        vertical-align: top;\n",
       "    }\n",
       "\n",
       "    .dataframe thead th {\n",
       "        text-align: right;\n",
       "    }\n",
       "</style>\n",
       "<table border=\"1\" class=\"dataframe\">\n",
       "  <thead>\n",
       "    <tr style=\"text-align: right;\">\n",
       "      <th></th>\n",
       "      <th>Name</th>\n",
       "      <th>Grade</th>\n",
       "      <th>Subject</th>\n",
       "      <th>Test Score</th>\n",
       "    </tr>\n",
       "  </thead>\n",
       "  <tbody>\n",
       "    <tr>\n",
       "      <th>1</th>\n",
       "      <td>lavanya</td>\n",
       "      <td>A</td>\n",
       "      <td>tamil</td>\n",
       "      <td>80</td>\n",
       "    </tr>\n",
       "    <tr>\n",
       "      <th>8</th>\n",
       "      <td>chottu</td>\n",
       "      <td>A</td>\n",
       "      <td>tamil</td>\n",
       "      <td>89</td>\n",
       "    </tr>\n",
       "  </tbody>\n",
       "</table>\n",
       "</div>"
      ],
      "text/plain": [
       "      Name Grade Subject  Test Score\n",
       "1  lavanya     A   tamil          80\n",
       "8   chottu     A   tamil          89"
      ]
     },
     "execution_count": 17,
     "metadata": {},
     "output_type": "execute_result"
    }
   ],
   "source": [
    "group2.get_group(('A','tamil'))"
   ]
  },
  {
   "cell_type": "code",
   "execution_count": 18,
   "id": "40cf2a24-56e1-466d-bd8c-fa1ed5232874",
   "metadata": {},
   "outputs": [
    {
     "data": {
      "text/html": [
       "<div>\n",
       "<style scoped>\n",
       "    .dataframe tbody tr th:only-of-type {\n",
       "        vertical-align: middle;\n",
       "    }\n",
       "\n",
       "    .dataframe tbody tr th {\n",
       "        vertical-align: top;\n",
       "    }\n",
       "\n",
       "    .dataframe thead th {\n",
       "        text-align: right;\n",
       "    }\n",
       "</style>\n",
       "<table border=\"1\" class=\"dataframe\">\n",
       "  <thead>\n",
       "    <tr style=\"text-align: right;\">\n",
       "      <th></th>\n",
       "      <th>Name</th>\n",
       "      <th>Grade</th>\n",
       "      <th>Subject</th>\n",
       "      <th>Test Score</th>\n",
       "    </tr>\n",
       "  </thead>\n",
       "  <tbody>\n",
       "    <tr>\n",
       "      <th>5</th>\n",
       "      <td>shalini</td>\n",
       "      <td>B</td>\n",
       "      <td>maths</td>\n",
       "      <td>77</td>\n",
       "    </tr>\n",
       "    <tr>\n",
       "      <th>7</th>\n",
       "      <td>rio</td>\n",
       "      <td>B</td>\n",
       "      <td>maths</td>\n",
       "      <td>72</td>\n",
       "    </tr>\n",
       "  </tbody>\n",
       "</table>\n",
       "</div>"
      ],
      "text/plain": [
       "      Name Grade Subject  Test Score\n",
       "5  shalini     B   maths          77\n",
       "7      rio     B   maths          72"
      ]
     },
     "execution_count": 18,
     "metadata": {},
     "output_type": "execute_result"
    }
   ],
   "source": [
    "group2.get_group(('B','maths'))"
   ]
  },
  {
   "cell_type": "code",
   "execution_count": 19,
   "id": "7685156d-2c72-4b99-a6ab-8c921300fcb2",
   "metadata": {},
   "outputs": [
    {
     "data": {
      "text/html": [
       "<div>\n",
       "<style scoped>\n",
       "    .dataframe tbody tr th:only-of-type {\n",
       "        vertical-align: middle;\n",
       "    }\n",
       "\n",
       "    .dataframe tbody tr th {\n",
       "        vertical-align: top;\n",
       "    }\n",
       "\n",
       "    .dataframe thead th {\n",
       "        text-align: right;\n",
       "    }\n",
       "</style>\n",
       "<table border=\"1\" class=\"dataframe\">\n",
       "  <thead>\n",
       "    <tr style=\"text-align: right;\">\n",
       "      <th></th>\n",
       "      <th>Name</th>\n",
       "      <th>Grade</th>\n",
       "      <th>Subject</th>\n",
       "      <th>Test Score</th>\n",
       "    </tr>\n",
       "  </thead>\n",
       "  <tbody>\n",
       "    <tr>\n",
       "      <th>0</th>\n",
       "      <td>zoya</td>\n",
       "      <td>B</td>\n",
       "      <td>tamil</td>\n",
       "      <td>75</td>\n",
       "    </tr>\n",
       "    <tr>\n",
       "      <th>4</th>\n",
       "      <td>lakshith</td>\n",
       "      <td>B</td>\n",
       "      <td>tamil</td>\n",
       "      <td>75</td>\n",
       "    </tr>\n",
       "  </tbody>\n",
       "</table>\n",
       "</div>"
      ],
      "text/plain": [
       "       Name Grade Subject  Test Score\n",
       "0      zoya     B   tamil          75\n",
       "4  lakshith     B   tamil          75"
      ]
     },
     "execution_count": 19,
     "metadata": {},
     "output_type": "execute_result"
    }
   ],
   "source": [
    "group2.get_group(('B','tamil'))"
   ]
  },
  {
   "cell_type": "code",
   "execution_count": 20,
   "id": "9c289521-8924-4aa7-81d7-223cd6e561d8",
   "metadata": {},
   "outputs": [
    {
     "data": {
      "text/html": [
       "<div>\n",
       "<style scoped>\n",
       "    .dataframe tbody tr th:only-of-type {\n",
       "        vertical-align: middle;\n",
       "    }\n",
       "\n",
       "    .dataframe tbody tr th {\n",
       "        vertical-align: top;\n",
       "    }\n",
       "\n",
       "    .dataframe thead th {\n",
       "        text-align: right;\n",
       "    }\n",
       "</style>\n",
       "<table border=\"1\" class=\"dataframe\">\n",
       "  <thead>\n",
       "    <tr style=\"text-align: right;\">\n",
       "      <th></th>\n",
       "      <th>Name</th>\n",
       "      <th>Grade</th>\n",
       "      <th>Subject</th>\n",
       "      <th>Test Score</th>\n",
       "    </tr>\n",
       "  </thead>\n",
       "  <tbody>\n",
       "    <tr>\n",
       "      <th>6</th>\n",
       "      <td>dakshith</td>\n",
       "      <td>C</td>\n",
       "      <td>science</td>\n",
       "      <td>64</td>\n",
       "    </tr>\n",
       "  </tbody>\n",
       "</table>\n",
       "</div>"
      ],
      "text/plain": [
       "       Name Grade  Subject  Test Score\n",
       "6  dakshith     C  science          64"
      ]
     },
     "execution_count": 20,
     "metadata": {},
     "output_type": "execute_result"
    }
   ],
   "source": [
    "group2.get_group(('C','science'))"
   ]
  },
  {
   "cell_type": "code",
   "execution_count": 13,
   "id": "0b26e8a3-ee37-4582-9df1-4e2eff25a374",
   "metadata": {},
   "outputs": [
    {
     "data": {
      "text/plain": [
       "Grade  Subject\n",
       "A      maths      170\n",
       "       tamil      169\n",
       "B      maths      149\n",
       "       tamil      150\n",
       "C      science     64\n",
       "Name: Test Score, dtype: int64"
      ]
     },
     "execution_count": 13,
     "metadata": {},
     "output_type": "execute_result"
    }
   ],
   "source": [
    "group2['Test Score'].sum()"
   ]
  },
  {
   "cell_type": "code",
   "execution_count": 22,
   "id": "db17e4f2-7b36-42b5-beb1-d4631960735f",
   "metadata": {},
   "outputs": [
    {
     "data": {
      "text/plain": [
       "Grade  Subject\n",
       "A      maths      85.0\n",
       "       tamil      84.5\n",
       "B      maths      74.5\n",
       "       tamil      75.0\n",
       "C      science    64.0\n",
       "Name: Test Score, dtype: float64"
      ]
     },
     "execution_count": 22,
     "metadata": {},
     "output_type": "execute_result"
    }
   ],
   "source": [
    "group2['Test Score'].max()"
   ]
  },
  {
   "cell_type": "code",
   "execution_count": 23,
   "id": "e4bf0c8f-e7b2-496e-a00f-dba9ef1e8af5",
   "metadata": {},
   "outputs": [
    {
     "data": {
      "text/plain": [
       "Grade  Subject\n",
       "A      maths      82\n",
       "       tamil      80\n",
       "B      maths      72\n",
       "       tamil      75\n",
       "C      science    64\n",
       "Name: Test Score, dtype: int64"
      ]
     },
     "execution_count": 23,
     "metadata": {},
     "output_type": "execute_result"
    }
   ],
   "source": [
    "group2['Test Score'].min()"
   ]
  },
  {
   "cell_type": "code",
   "execution_count": 21,
   "id": "51fd3f39-4c20-4a19-8178-0bb482a0d590",
   "metadata": {},
   "outputs": [
    {
     "data": {
      "text/plain": [
       "Grade  Subject\n",
       "A      maths      85.0\n",
       "       tamil      84.5\n",
       "B      maths      74.5\n",
       "       tamil      75.0\n",
       "C      science    64.0\n",
       "Name: Test Score, dtype: float64"
      ]
     },
     "execution_count": 21,
     "metadata": {},
     "output_type": "execute_result"
    }
   ],
   "source": [
    "group2['Test Score'].median()"
   ]
  }
 ],
 "metadata": {
  "kernelspec": {
   "display_name": "Python 3 (ipykernel)",
   "language": "python",
   "name": "python3"
  },
  "language_info": {
   "codemirror_mode": {
    "name": "ipython",
    "version": 3
   },
   "file_extension": ".py",
   "mimetype": "text/x-python",
   "name": "python",
   "nbconvert_exporter": "python",
   "pygments_lexer": "ipython3",
   "version": "3.12.4"
  }
 },
 "nbformat": 4,
 "nbformat_minor": 5
}

{
 "cells": [
  {
   "cell_type": "code",
   "execution_count": 2,
   "id": "1934e0dc",
   "metadata": {},
   "outputs": [],
   "source": [
    "import pandas as pd"
   ]
  },
  {
   "cell_type": "code",
   "execution_count": 6,
   "id": "439c25c9",
   "metadata": {},
   "outputs": [
    {
     "data": {
      "text/html": [
       "<div>\n",
       "<style scoped>\n",
       "    .dataframe tbody tr th:only-of-type {\n",
       "        vertical-align: middle;\n",
       "    }\n",
       "\n",
       "    .dataframe tbody tr th {\n",
       "        vertical-align: top;\n",
       "    }\n",
       "\n",
       "    .dataframe thead th {\n",
       "        text-align: right;\n",
       "    }\n",
       "</style>\n",
       "<table border=\"1\" class=\"dataframe\">\n",
       "  <thead>\n",
       "    <tr style=\"text-align: right;\">\n",
       "      <th></th>\n",
       "      <th>OrderNumber</th>\n",
       "      <th>OrderDate</th>\n",
       "      <th>Ship Date</th>\n",
       "      <th>Customer Name Index</th>\n",
       "      <th>Channel</th>\n",
       "      <th>Currency Code</th>\n",
       "      <th>Warehouse Code</th>\n",
       "      <th>Region Index</th>\n",
       "      <th>Product  Index</th>\n",
       "      <th>Order Quantity</th>\n",
       "      <th>Unit Price</th>\n",
       "      <th>Total Unit Cost</th>\n",
       "      <th>Total Revenue</th>\n",
       "    </tr>\n",
       "  </thead>\n",
       "  <tbody>\n",
       "    <tr>\n",
       "      <th>0</th>\n",
       "      <td>SO - 000225</td>\n",
       "      <td>2017-01-01</td>\n",
       "      <td>2017-01-13</td>\n",
       "      <td>28</td>\n",
       "      <td>Wholesale</td>\n",
       "      <td>NZD</td>\n",
       "      <td>AXW291</td>\n",
       "      <td>71</td>\n",
       "      <td>11</td>\n",
       "      <td>6</td>\n",
       "      <td>2499.1</td>\n",
       "      <td>1824.343</td>\n",
       "      <td>14994.6</td>\n",
       "    </tr>\n",
       "    <tr>\n",
       "      <th>1</th>\n",
       "      <td>SO - 0003378</td>\n",
       "      <td>2017-01-01</td>\n",
       "      <td>2017-01-06</td>\n",
       "      <td>7</td>\n",
       "      <td>Distributor</td>\n",
       "      <td>NZD</td>\n",
       "      <td>AXW291</td>\n",
       "      <td>54</td>\n",
       "      <td>7</td>\n",
       "      <td>11</td>\n",
       "      <td>2351.7</td>\n",
       "      <td>1269.918</td>\n",
       "      <td>25868.7</td>\n",
       "    </tr>\n",
       "    <tr>\n",
       "      <th>2</th>\n",
       "      <td>SO - 0003901</td>\n",
       "      <td>2017-01-01</td>\n",
       "      <td>2017-01-05</td>\n",
       "      <td>12</td>\n",
       "      <td>Wholesale</td>\n",
       "      <td>NZD</td>\n",
       "      <td>AXW291</td>\n",
       "      <td>58</td>\n",
       "      <td>13</td>\n",
       "      <td>5</td>\n",
       "      <td>1728.6</td>\n",
       "      <td>1019.874</td>\n",
       "      <td>8643.0</td>\n",
       "    </tr>\n",
       "    <tr>\n",
       "      <th>3</th>\n",
       "      <td>SO - 0005126</td>\n",
       "      <td>2017-01-01</td>\n",
       "      <td>2017-01-17</td>\n",
       "      <td>5</td>\n",
       "      <td>Wholesale</td>\n",
       "      <td>USD</td>\n",
       "      <td>AXW291</td>\n",
       "      <td>29</td>\n",
       "      <td>7</td>\n",
       "      <td>6</td>\n",
       "      <td>978.2</td>\n",
       "      <td>684.740</td>\n",
       "      <td>5869.2</td>\n",
       "    </tr>\n",
       "    <tr>\n",
       "      <th>4</th>\n",
       "      <td>SO - 0005614</td>\n",
       "      <td>2017-01-01</td>\n",
       "      <td>2017-01-07</td>\n",
       "      <td>27</td>\n",
       "      <td>Export</td>\n",
       "      <td>NZD</td>\n",
       "      <td>AXW291</td>\n",
       "      <td>31</td>\n",
       "      <td>6</td>\n",
       "      <td>7</td>\n",
       "      <td>2338.3</td>\n",
       "      <td>1028.852</td>\n",
       "      <td>16368.1</td>\n",
       "    </tr>\n",
       "  </tbody>\n",
       "</table>\n",
       "</div>"
      ],
      "text/plain": [
       "    OrderNumber  OrderDate  Ship Date  Customer Name Index      Channel  \\\n",
       "0   SO - 000225 2017-01-01 2017-01-13                   28    Wholesale   \n",
       "1  SO - 0003378 2017-01-01 2017-01-06                    7  Distributor   \n",
       "2  SO - 0003901 2017-01-01 2017-01-05                   12    Wholesale   \n",
       "3  SO - 0005126 2017-01-01 2017-01-17                    5    Wholesale   \n",
       "4  SO - 0005614 2017-01-01 2017-01-07                   27       Export   \n",
       "\n",
       "  Currency Code Warehouse Code  Region Index  Product  Index  Order Quantity  \\\n",
       "0           NZD         AXW291            71              11               6   \n",
       "1           NZD         AXW291            54               7              11   \n",
       "2           NZD         AXW291            58              13               5   \n",
       "3           USD         AXW291            29               7               6   \n",
       "4           NZD         AXW291            31               6               7   \n",
       "\n",
       "   Unit Price  Total Unit Cost  Total Revenue  \n",
       "0      2499.1         1824.343        14994.6  \n",
       "1      2351.7         1269.918        25868.7  \n",
       "2      1728.6         1019.874         8643.0  \n",
       "3       978.2          684.740         5869.2  \n",
       "4      2338.3         1028.852        16368.1  "
      ]
     },
     "execution_count": 6,
     "metadata": {},
     "output_type": "execute_result"
    }
   ],
   "source": [
    "orders_df = pd.read_excel(\"C:\\\\Users\\\\Sanjay\\\\OneDrive\\\\Desktop\\\\Sales.xlsx\")\n",
    "orders_df.head()"
   ]
  },
  {
   "cell_type": "code",
   "execution_count": 10,
   "id": "7e671fcf",
   "metadata": {},
   "outputs": [
    {
     "data": {
      "text/html": [
       "<div>\n",
       "<style scoped>\n",
       "    .dataframe tbody tr th:only-of-type {\n",
       "        vertical-align: middle;\n",
       "    }\n",
       "\n",
       "    .dataframe tbody tr th {\n",
       "        vertical-align: top;\n",
       "    }\n",
       "\n",
       "    .dataframe thead th {\n",
       "        text-align: right;\n",
       "    }\n",
       "</style>\n",
       "<table border=\"1\" class=\"dataframe\">\n",
       "  <thead>\n",
       "    <tr style=\"text-align: right;\">\n",
       "      <th></th>\n",
       "      <th>OrderNumber</th>\n",
       "      <th>OrderDate</th>\n",
       "      <th>Ship Date</th>\n",
       "      <th>Customer Name Index</th>\n",
       "      <th>Channel</th>\n",
       "      <th>Currency Code</th>\n",
       "      <th>Warehouse Code</th>\n",
       "      <th>Region Index</th>\n",
       "      <th>Product  Index</th>\n",
       "      <th>Order Quantity</th>\n",
       "      <th>Unit Price</th>\n",
       "      <th>Total Unit Cost</th>\n",
       "      <th>Sales</th>\n",
       "    </tr>\n",
       "  </thead>\n",
       "  <tbody>\n",
       "    <tr>\n",
       "      <th>0</th>\n",
       "      <td>SO - 000225</td>\n",
       "      <td>2017-01-01</td>\n",
       "      <td>2017-01-13</td>\n",
       "      <td>28</td>\n",
       "      <td>Wholesale</td>\n",
       "      <td>NZD</td>\n",
       "      <td>AXW291</td>\n",
       "      <td>71</td>\n",
       "      <td>11</td>\n",
       "      <td>6</td>\n",
       "      <td>2499.1</td>\n",
       "      <td>1824.343</td>\n",
       "      <td>14994.6</td>\n",
       "    </tr>\n",
       "    <tr>\n",
       "      <th>1</th>\n",
       "      <td>SO - 0003378</td>\n",
       "      <td>2017-01-01</td>\n",
       "      <td>2017-01-06</td>\n",
       "      <td>7</td>\n",
       "      <td>Distributor</td>\n",
       "      <td>NZD</td>\n",
       "      <td>AXW291</td>\n",
       "      <td>54</td>\n",
       "      <td>7</td>\n",
       "      <td>11</td>\n",
       "      <td>2351.7</td>\n",
       "      <td>1269.918</td>\n",
       "      <td>25868.7</td>\n",
       "    </tr>\n",
       "    <tr>\n",
       "      <th>2</th>\n",
       "      <td>SO - 0003901</td>\n",
       "      <td>2017-01-01</td>\n",
       "      <td>2017-01-05</td>\n",
       "      <td>12</td>\n",
       "      <td>Wholesale</td>\n",
       "      <td>NZD</td>\n",
       "      <td>AXW291</td>\n",
       "      <td>58</td>\n",
       "      <td>13</td>\n",
       "      <td>5</td>\n",
       "      <td>1728.6</td>\n",
       "      <td>1019.874</td>\n",
       "      <td>8643.0</td>\n",
       "    </tr>\n",
       "    <tr>\n",
       "      <th>3</th>\n",
       "      <td>SO - 0005126</td>\n",
       "      <td>2017-01-01</td>\n",
       "      <td>2017-01-17</td>\n",
       "      <td>5</td>\n",
       "      <td>Wholesale</td>\n",
       "      <td>USD</td>\n",
       "      <td>AXW291</td>\n",
       "      <td>29</td>\n",
       "      <td>7</td>\n",
       "      <td>6</td>\n",
       "      <td>978.2</td>\n",
       "      <td>684.740</td>\n",
       "      <td>5869.2</td>\n",
       "    </tr>\n",
       "    <tr>\n",
       "      <th>4</th>\n",
       "      <td>SO - 0005614</td>\n",
       "      <td>2017-01-01</td>\n",
       "      <td>2017-01-07</td>\n",
       "      <td>27</td>\n",
       "      <td>Export</td>\n",
       "      <td>NZD</td>\n",
       "      <td>AXW291</td>\n",
       "      <td>31</td>\n",
       "      <td>6</td>\n",
       "      <td>7</td>\n",
       "      <td>2338.3</td>\n",
       "      <td>1028.852</td>\n",
       "      <td>16368.1</td>\n",
       "    </tr>\n",
       "  </tbody>\n",
       "</table>\n",
       "</div>"
      ],
      "text/plain": [
       "    OrderNumber  OrderDate  Ship Date  Customer Name Index      Channel  \\\n",
       "0   SO - 000225 2017-01-01 2017-01-13                   28    Wholesale   \n",
       "1  SO - 0003378 2017-01-01 2017-01-06                    7  Distributor   \n",
       "2  SO - 0003901 2017-01-01 2017-01-05                   12    Wholesale   \n",
       "3  SO - 0005126 2017-01-01 2017-01-17                    5    Wholesale   \n",
       "4  SO - 0005614 2017-01-01 2017-01-07                   27       Export   \n",
       "\n",
       "  Currency Code Warehouse Code  Region Index  Product  Index  Order Quantity  \\\n",
       "0           NZD         AXW291            71              11               6   \n",
       "1           NZD         AXW291            54               7              11   \n",
       "2           NZD         AXW291            58              13               5   \n",
       "3           USD         AXW291            29               7               6   \n",
       "4           NZD         AXW291            31               6               7   \n",
       "\n",
       "   Unit Price  Total Unit Cost    Sales  \n",
       "0      2499.1         1824.343  14994.6  \n",
       "1      2351.7         1269.918  25868.7  \n",
       "2      1728.6         1019.874   8643.0  \n",
       "3       978.2          684.740   5869.2  \n",
       "4      2338.3         1028.852  16368.1  "
      ]
     },
     "execution_count": 10,
     "metadata": {},
     "output_type": "execute_result"
    }
   ],
   "source": [
    "orders_df.rename(columns={\"Total Revenue\":\"Sales\"},inplace=True)\n",
    "orders_df.head()"
   ]
  },
  {
   "cell_type": "code",
   "execution_count": 14,
   "id": "d8c58ce8",
   "metadata": {},
   "outputs": [],
   "source": [
    "orders_df[\"Profit\"] = orders_df[\"Unit Price\"] - orders_df[\"Total Unit Cost\"] "
   ]
  },
  {
   "cell_type": "code",
   "execution_count": 15,
   "id": "72bc8af8",
   "metadata": {},
   "outputs": [
    {
     "data": {
      "text/html": [
       "<div>\n",
       "<style scoped>\n",
       "    .dataframe tbody tr th:only-of-type {\n",
       "        vertical-align: middle;\n",
       "    }\n",
       "\n",
       "    .dataframe tbody tr th {\n",
       "        vertical-align: top;\n",
       "    }\n",
       "\n",
       "    .dataframe thead th {\n",
       "        text-align: right;\n",
       "    }\n",
       "</style>\n",
       "<table border=\"1\" class=\"dataframe\">\n",
       "  <thead>\n",
       "    <tr style=\"text-align: right;\">\n",
       "      <th></th>\n",
       "      <th>OrderNumber</th>\n",
       "      <th>OrderDate</th>\n",
       "      <th>Ship Date</th>\n",
       "      <th>Customer Name Index</th>\n",
       "      <th>Channel</th>\n",
       "      <th>Currency Code</th>\n",
       "      <th>Warehouse Code</th>\n",
       "      <th>Region Index</th>\n",
       "      <th>Product  Index</th>\n",
       "      <th>Order Quantity</th>\n",
       "      <th>Unit Price</th>\n",
       "      <th>Total Unit Cost</th>\n",
       "      <th>Sales</th>\n",
       "      <th>Profit</th>\n",
       "    </tr>\n",
       "  </thead>\n",
       "  <tbody>\n",
       "    <tr>\n",
       "      <th>0</th>\n",
       "      <td>SO - 000225</td>\n",
       "      <td>2017-01-01</td>\n",
       "      <td>2017-01-13</td>\n",
       "      <td>28</td>\n",
       "      <td>Wholesale</td>\n",
       "      <td>NZD</td>\n",
       "      <td>AXW291</td>\n",
       "      <td>71</td>\n",
       "      <td>11</td>\n",
       "      <td>6</td>\n",
       "      <td>2499.1</td>\n",
       "      <td>1824.343</td>\n",
       "      <td>14994.6</td>\n",
       "      <td>674.757</td>\n",
       "    </tr>\n",
       "    <tr>\n",
       "      <th>1</th>\n",
       "      <td>SO - 0003378</td>\n",
       "      <td>2017-01-01</td>\n",
       "      <td>2017-01-06</td>\n",
       "      <td>7</td>\n",
       "      <td>Distributor</td>\n",
       "      <td>NZD</td>\n",
       "      <td>AXW291</td>\n",
       "      <td>54</td>\n",
       "      <td>7</td>\n",
       "      <td>11</td>\n",
       "      <td>2351.7</td>\n",
       "      <td>1269.918</td>\n",
       "      <td>25868.7</td>\n",
       "      <td>1081.782</td>\n",
       "    </tr>\n",
       "    <tr>\n",
       "      <th>2</th>\n",
       "      <td>SO - 0003901</td>\n",
       "      <td>2017-01-01</td>\n",
       "      <td>2017-01-05</td>\n",
       "      <td>12</td>\n",
       "      <td>Wholesale</td>\n",
       "      <td>NZD</td>\n",
       "      <td>AXW291</td>\n",
       "      <td>58</td>\n",
       "      <td>13</td>\n",
       "      <td>5</td>\n",
       "      <td>1728.6</td>\n",
       "      <td>1019.874</td>\n",
       "      <td>8643.0</td>\n",
       "      <td>708.726</td>\n",
       "    </tr>\n",
       "    <tr>\n",
       "      <th>3</th>\n",
       "      <td>SO - 0005126</td>\n",
       "      <td>2017-01-01</td>\n",
       "      <td>2017-01-17</td>\n",
       "      <td>5</td>\n",
       "      <td>Wholesale</td>\n",
       "      <td>USD</td>\n",
       "      <td>AXW291</td>\n",
       "      <td>29</td>\n",
       "      <td>7</td>\n",
       "      <td>6</td>\n",
       "      <td>978.2</td>\n",
       "      <td>684.740</td>\n",
       "      <td>5869.2</td>\n",
       "      <td>293.460</td>\n",
       "    </tr>\n",
       "    <tr>\n",
       "      <th>4</th>\n",
       "      <td>SO - 0005614</td>\n",
       "      <td>2017-01-01</td>\n",
       "      <td>2017-01-07</td>\n",
       "      <td>27</td>\n",
       "      <td>Export</td>\n",
       "      <td>NZD</td>\n",
       "      <td>AXW291</td>\n",
       "      <td>31</td>\n",
       "      <td>6</td>\n",
       "      <td>7</td>\n",
       "      <td>2338.3</td>\n",
       "      <td>1028.852</td>\n",
       "      <td>16368.1</td>\n",
       "      <td>1309.448</td>\n",
       "    </tr>\n",
       "  </tbody>\n",
       "</table>\n",
       "</div>"
      ],
      "text/plain": [
       "    OrderNumber  OrderDate  Ship Date  Customer Name Index      Channel  \\\n",
       "0   SO - 000225 2017-01-01 2017-01-13                   28    Wholesale   \n",
       "1  SO - 0003378 2017-01-01 2017-01-06                    7  Distributor   \n",
       "2  SO - 0003901 2017-01-01 2017-01-05                   12    Wholesale   \n",
       "3  SO - 0005126 2017-01-01 2017-01-17                    5    Wholesale   \n",
       "4  SO - 0005614 2017-01-01 2017-01-07                   27       Export   \n",
       "\n",
       "  Currency Code Warehouse Code  Region Index  Product  Index  Order Quantity  \\\n",
       "0           NZD         AXW291            71              11               6   \n",
       "1           NZD         AXW291            54               7              11   \n",
       "2           NZD         AXW291            58              13               5   \n",
       "3           USD         AXW291            29               7               6   \n",
       "4           NZD         AXW291            31               6               7   \n",
       "\n",
       "   Unit Price  Total Unit Cost    Sales    Profit  \n",
       "0      2499.1         1824.343  14994.6   674.757  \n",
       "1      2351.7         1269.918  25868.7  1081.782  \n",
       "2      1728.6         1019.874   8643.0   708.726  \n",
       "3       978.2          684.740   5869.2   293.460  \n",
       "4      2338.3         1028.852  16368.1  1309.448  "
      ]
     },
     "execution_count": 15,
     "metadata": {},
     "output_type": "execute_result"
    }
   ],
   "source": [
    "orders_df.head()"
   ]
  },
  {
   "cell_type": "code",
   "execution_count": 22,
   "id": "7628cf11",
   "metadata": {},
   "outputs": [
    {
     "data": {
      "text/plain": [
       "6813329.964"
      ]
     },
     "execution_count": 22,
     "metadata": {},
     "output_type": "execute_result"
    }
   ],
   "source": [
    "orders_df['Profit'].sum()"
   ]
  },
  {
   "cell_type": "code",
   "execution_count": 24,
   "id": "3d26da0a",
   "metadata": {},
   "outputs": [
    {
     "data": {
      "text/plain": [
       "7991"
      ]
     },
     "execution_count": 24,
     "metadata": {},
     "output_type": "execute_result"
    }
   ],
   "source": [
    "orders_df['Profit'].count()"
   ]
  },
  {
   "cell_type": "code",
   "execution_count": 25,
   "id": "279528dc",
   "metadata": {},
   "outputs": [
    {
     "data": {
      "text/plain": [
       "852.6254491302715"
      ]
     },
     "execution_count": 25,
     "metadata": {},
     "output_type": "execute_result"
    }
   ],
   "source": [
    "orders_df['Profit'].mean()"
   ]
  },
  {
   "cell_type": "code",
   "execution_count": 26,
   "id": "46ae8aa5",
   "metadata": {},
   "outputs": [
    {
     "data": {
      "text/plain": [
       "3863.22"
      ]
     },
     "execution_count": 26,
     "metadata": {},
     "output_type": "execute_result"
    }
   ],
   "source": [
    "orders_df['Profit'].max()"
   ]
  },
  {
   "cell_type": "code",
   "execution_count": 27,
   "id": "b935569e",
   "metadata": {},
   "outputs": [
    {
     "data": {
      "text/plain": [
       "25.125"
      ]
     },
     "execution_count": 27,
     "metadata": {},
     "output_type": "execute_result"
    }
   ],
   "source": [
    "orders_df['Profit'].min()"
   ]
  },
  {
   "cell_type": "code",
   "execution_count": 28,
   "id": "9ddcde60",
   "metadata": {},
   "outputs": [
    {
     "data": {
      "text/plain": [
       "count    7991.000000\n",
       "mean      852.625449\n",
       "std       727.763554\n",
       "min        25.125000\n",
       "25%       335.134000\n",
       "50%       601.660000\n",
       "75%      1199.434000\n",
       "max      3863.220000\n",
       "Name: Profit, dtype: float64"
      ]
     },
     "execution_count": 28,
     "metadata": {},
     "output_type": "execute_result"
    }
   ],
   "source": [
    "orders_df['Profit'].describe()"
   ]
  }
 ],
 "metadata": {
  "kernelspec": {
   "display_name": "Python 3 (ipykernel)",
   "language": "python",
   "name": "python3"
  },
  "language_info": {
   "codemirror_mode": {
    "name": "ipython",
    "version": 3
   },
   "file_extension": ".py",
   "mimetype": "text/x-python",
   "name": "python",
   "nbconvert_exporter": "python",
   "pygments_lexer": "ipython3",
   "version": "3.10.9"
  }
 },
 "nbformat": 4,
 "nbformat_minor": 5
}

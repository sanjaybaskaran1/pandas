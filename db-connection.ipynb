{
 "cells": [
  {
   "cell_type": "code",
   "execution_count": 2,
   "id": "b6ef2827",
   "metadata": {},
   "outputs": [
    {
     "name": "stdout",
     "output_type": "stream",
     "text": [
      "Requirement already satisfied: mysql-connector-python in c:\\users\\sanjay\\anaconda3\\lib\\site-packages (8.4.0)\n",
      "Note: you may need to restart the kernel to use updated packages.\n"
     ]
    }
   ],
   "source": [
    "pip install mysql-connector-python"
   ]
  },
  {
   "cell_type": "code",
   "execution_count": 1,
   "id": "8009e9d2",
   "metadata": {},
   "outputs": [],
   "source": [
    "import mysql\n",
    "from mysql.connector import Error"
   ]
  },
  {
   "cell_type": "code",
   "execution_count": 2,
   "id": "f772bb51",
   "metadata": {},
   "outputs": [],
   "source": [
    "def create_server_connection(host_name, user_name, user_password, db_name):\n",
    "    connection = None\n",
    "    try:\n",
    "        connection = mysql.connector.connect(\n",
    "            host=host_name,\n",
    "            user=user_name,\n",
    "            passwd=user_password,\n",
    "            database=db_name\n",
    "        )\n",
    "        print(\"database connection successfull\")\n",
    "    \n",
    "    except Error as err:\n",
    "        print(f\"Error: {err}\")\n",
    "        \n",
    "    return connection\n",
    "    "
   ]
  },
  {
   "cell_type": "code",
   "execution_count": 3,
   "id": "ad0a4852",
   "metadata": {},
   "outputs": [],
   "source": [
    "host = \"localhost\"\n",
    "database = \"employees\"\n",
    "user = \"root\"\n",
    "password = \"root\""
   ]
  },
  {
   "cell_type": "code",
   "execution_count": 19,
   "id": "93c81068",
   "metadata": {},
   "outputs": [
    {
     "name": "stdout",
     "output_type": "stream",
     "text": [
      "database connection successfull\n"
     ]
    }
   ],
   "source": [
    "conn = create_server_connection(host_name = host, user_name = user, user_password = password, db_name = database)\n",
    "\n",
    "cursor = conn.cursor()"
   ]
  },
  {
   "cell_type": "code",
   "execution_count": 15,
   "id": "dd5dfb7f",
   "metadata": {},
   "outputs": [
    {
     "name": "stdout",
     "output_type": "stream",
     "text": [
      "<class 'list'>\n"
     ]
    }
   ],
   "source": [
    "cursor.execute(\"select * from employees where emp_no = 10001\")\n",
    "result = cursor.fetchall()\n",
    "print(type(result))"
   ]
  },
  {
   "cell_type": "code",
   "execution_count": 20,
   "id": "c651ef22",
   "metadata": {},
   "outputs": [
    {
     "name": "stdout",
     "output_type": "stream",
     "text": [
      "[(10002, datetime.date(1964, 6, 2), 'Bezalel', 'Simmel', 'F', datetime.date(1985, 11, 21))]\n"
     ]
    }
   ],
   "source": [
    "cursor.execute(\"select * from employees where emp_no = 10002\")\n",
    "result2 = cursor.fetchall()\n",
    "print(result2)"
   ]
  },
  {
   "cell_type": "code",
   "execution_count": 21,
   "id": "49c4f1b1",
   "metadata": {},
   "outputs": [],
   "source": [
    "cursor.close()\n",
    "conn.close()"
   ]
  },
  {
   "cell_type": "code",
   "execution_count": 28,
   "id": "c1f7abce",
   "metadata": {},
   "outputs": [
    {
     "name": "stdout",
     "output_type": "stream",
     "text": [
      "Database connection successful\n",
      "(10001, datetime.date(1953, 9, 2), 'Georgi', 'Facello', 'M', datetime.date(1986, 6, 26))\n",
      "Database connection closed\n"
     ]
    }
   ],
   "source": [
    "import mysql.connector\n",
    "from mysql.connector import Error\n",
    "\n",
    "def create_server_connection(host_name, user_name, user_password, db_name):\n",
    "    connection = None\n",
    "    try:\n",
    "        connection = mysql.connector.connect(\n",
    "            host=host_name,\n",
    "            user=user_name,\n",
    "            passwd=user_password,\n",
    "            database=db_name\n",
    "        )\n",
    "        print(\"Database connection successful\")\n",
    "    except Error as err:\n",
    "        print(f\"Error: {err}\")\n",
    "    return connection\n",
    "\n",
    "# Usage example (replace with your actual credentials)\n",
    "host = \"localhost\"\n",
    "user = \"root\"\n",
    "password = \"root\"\n",
    "database = \"employees\"\n",
    "\n",
    "# Establish the connection\n",
    "conn = create_server_connection(host_name=host, user_name=user, user_password=password, db_name=database)\n",
    "\n",
    "# Create a cursor object\n",
    "cursor = conn.cursor()\n",
    "\n",
    "try:\n",
    "    # Execute the query\n",
    "    cursor.execute(\"SELECT * FROM employees where emp_no = 10001\")\n",
    "    \n",
    "    # Fetch all results from the executed query\n",
    "    results = cursor.fetchall()\n",
    "    \n",
    "    # Print the results\n",
    "    for row in results:\n",
    "        print(row)\n",
    "except Error as err:\n",
    "    print(f\"Error: {err}\")\n",
    "finally:\n",
    "    try:\n",
    "        # Ensure all results are read (if not already done)\n",
    "        while cursor.nextset():\n",
    "            pass\n",
    "    except Error as err:\n",
    "        print(f\"Error: {err}\")\n",
    "    \n",
    "    # Close the cursor\n",
    "    cursor.close()\n",
    "    \n",
    "    # Close the connection\n",
    "    if conn.is_connected():\n",
    "        conn.close()\n",
    "        print(\"Database connection closed\")\n"
   ]
  }
 ],
 "metadata": {
  "kernelspec": {
   "display_name": "Python 3 (ipykernel)",
   "language": "python",
   "name": "python3"
  },
  "language_info": {
   "codemirror_mode": {
    "name": "ipython",
    "version": 3
   },
   "file_extension": ".py",
   "mimetype": "text/x-python",
   "name": "python",
   "nbconvert_exporter": "python",
   "pygments_lexer": "ipython3",
   "version": "3.10.9"
  }
 },
 "nbformat": 4,
 "nbformat_minor": 5
}

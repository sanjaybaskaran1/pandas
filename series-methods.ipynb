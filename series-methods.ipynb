{
 "cells": [
  {
   "cell_type": "code",
   "execution_count": 2,
   "id": "6632733d",
   "metadata": {},
   "outputs": [],
   "source": [
    "import pandas as pd"
   ]
  },
  {
   "cell_type": "code",
   "execution_count": 3,
   "id": "cce78c68",
   "metadata": {},
   "outputs": [],
   "source": [
    "series1 = pd.Series(data=[1,2,3,4,5])\n",
    "series2 = pd.Series(data=[6,7,8,9,10])"
   ]
  },
  {
   "cell_type": "code",
   "execution_count": 5,
   "id": "d0ebbf14",
   "metadata": {},
   "outputs": [
    {
     "name": "stdout",
     "output_type": "stream",
     "text": [
      "0    1\n",
      "1    2\n",
      "2    3\n",
      "3    4\n",
      "4    5\n",
      "dtype: int64\n"
     ]
    }
   ],
   "source": [
    "print(series1)"
   ]
  },
  {
   "cell_type": "code",
   "execution_count": 6,
   "id": "01242d72",
   "metadata": {},
   "outputs": [
    {
     "name": "stdout",
     "output_type": "stream",
     "text": [
      "0     6\n",
      "1     7\n",
      "2     8\n",
      "3     9\n",
      "4    10\n",
      "dtype: int64\n"
     ]
    }
   ],
   "source": [
    "print(series2)"
   ]
  },
  {
   "cell_type": "code",
   "execution_count": 9,
   "id": "44aa8a31",
   "metadata": {},
   "outputs": [
    {
     "name": "stdout",
     "output_type": "stream",
     "text": [
      "0     7\n",
      "1     9\n",
      "2    11\n",
      "3    13\n",
      "4    15\n",
      "dtype: int64\n"
     ]
    }
   ],
   "source": [
    "addition = series1.add(series2)\n",
    "print(addition)"
   ]
  },
  {
   "cell_type": "code",
   "execution_count": 11,
   "id": "e88c0002",
   "metadata": {},
   "outputs": [
    {
     "name": "stdout",
     "output_type": "stream",
     "text": [
      "0   -5\n",
      "1   -5\n",
      "2   -5\n",
      "3   -5\n",
      "4   -5\n",
      "dtype: int64\n"
     ]
    }
   ],
   "source": [
    "subtraction = series1.sub(series2)\n",
    "print(subtraction)"
   ]
  },
  {
   "cell_type": "code",
   "execution_count": 12,
   "id": "4aa5193d",
   "metadata": {},
   "outputs": [
    {
     "name": "stdout",
     "output_type": "stream",
     "text": [
      "0     6\n",
      "1    14\n",
      "2    24\n",
      "3    36\n",
      "4    50\n",
      "dtype: int64\n"
     ]
    }
   ],
   "source": [
    "multiplication = series1.mul(series2)\n",
    "print(multiplication)"
   ]
  },
  {
   "cell_type": "code",
   "execution_count": 20,
   "id": "d88f0a21",
   "metadata": {},
   "outputs": [
    {
     "name": "stdout",
     "output_type": "stream",
     "text": [
      "0    6.000000\n",
      "1    3.500000\n",
      "2    2.666667\n",
      "3    2.250000\n",
      "4    2.000000\n",
      "dtype: float64\n",
      " \n",
      "-------------------------------------\n",
      "i      6.000000\n",
      "ii     3.500000\n",
      "iii    2.666667\n",
      "iv     2.250000\n",
      "v      2.000000\n",
      "dtype: float64\n"
     ]
    }
   ],
   "source": [
    "division = series2.div(series1)\n",
    "print(division),print(' ')\n",
    "print(\"-------------------------------------\")\n",
    "division.index = [\"i\",\"ii\",\"iii\",\"iv\",\"v\"]\n",
    "print(division)"
   ]
  },
  {
   "cell_type": "code",
   "execution_count": 22,
   "id": "ef1b5000",
   "metadata": {},
   "outputs": [
    {
     "name": "stdout",
     "output_type": "stream",
     "text": [
      "0         6\n",
      "1        49\n",
      "2       512\n",
      "3      6561\n",
      "4    100000\n",
      "dtype: int64\n"
     ]
    }
   ],
   "source": [
    "power = series2.pow(series1)\n",
    "print(power)"
   ]
  },
  {
   "cell_type": "code",
   "execution_count": 23,
   "id": "bcbbdb56",
   "metadata": {},
   "outputs": [
    {
     "data": {
      "text/plain": [
       "100000"
      ]
     },
     "execution_count": 23,
     "metadata": {},
     "output_type": "execute_result"
    }
   ],
   "source": [
    "10**5"
   ]
  },
  {
   "cell_type": "code",
   "execution_count": 24,
   "id": "4fbc7aea",
   "metadata": {},
   "outputs": [
    {
     "name": "stdout",
     "output_type": "stream",
     "text": [
      "Requirement already satisfied: pandas in c:\\users\\sanjay\\anaconda3\\lib\\site-packages (1.5.3)\n",
      "Requirement already satisfied: numpy>=1.21.0 in c:\\users\\sanjay\\anaconda3\\lib\\site-packages (from pandas) (1.25.2)\n",
      "Requirement already satisfied: pytz>=2020.1 in c:\\users\\sanjay\\anaconda3\\lib\\site-packages (from pandas) (2022.7)\n",
      "Requirement already satisfied: python-dateutil>=2.8.1 in c:\\users\\sanjay\\anaconda3\\lib\\site-packages (from pandas) (2.8.2)\n",
      "Requirement already satisfied: six>=1.5 in c:\\users\\sanjay\\anaconda3\\lib\\site-packages (from python-dateutil>=2.8.1->pandas) (1.16.0)\n"
     ]
    }
   ],
   "source": [
    "!pip install pandas"
   ]
  },
  {
   "cell_type": "code",
   "execution_count": 25,
   "id": "8486f9de",
   "metadata": {},
   "outputs": [
    {
     "name": "stdout",
     "output_type": "stream",
     "text": [
      "Series([], dtype: float64)\n"
     ]
    },
    {
     "name": "stderr",
     "output_type": "stream",
     "text": [
      "C:\\Users\\Sanjay\\AppData\\Local\\Temp\\ipykernel_11248\\1672380023.py:2: FutureWarning: The default dtype for empty Series will be 'object' instead of 'float64' in a future version. Specify a dtype explicitly to silence this warning.\n",
      "  empty_series = pd.Series()\n"
     ]
    }
   ],
   "source": [
    "#creating a empty series\n",
    "empty_series = pd.Series()\n",
    "print(empty_series)"
   ]
  },
  {
   "cell_type": "code",
   "execution_count": 26,
   "id": "75f4bec9",
   "metadata": {},
   "outputs": [
    {
     "name": "stdout",
     "output_type": "stream",
     "text": [
      "i         jaanu\n",
      "ii      lavanya\n",
      "iii    lakshith\n",
      "iv     dakshith\n",
      "dtype: object\n"
     ]
    }
   ],
   "source": [
    "# passing list into a series object\n",
    "name_list = [\"jaanu\",\"lavanya\",\"lakshith\",\"dakshith\"]\n",
    "index_list = [\"i\",\"ii\",\"iii\",\"iv\"]\n",
    "name_series = pd.Series(data=name_list, index=index_list)\n",
    "print(name_series)"
   ]
  },
  {
   "cell_type": "code",
   "execution_count": 27,
   "id": "467da313",
   "metadata": {},
   "outputs": [
    {
     "name": "stdout",
     "output_type": "stream",
     "text": [
      "a       jaanu\n",
      "b     lavanya\n",
      "c    lakshith\n",
      "d    dakshith\n",
      "dtype: object\n"
     ]
    }
   ],
   "source": [
    "# how to replace the existing index\n",
    "name_series.index = [\"a\",\"b\",\"c\",\"d\"]\n",
    "print(name_series)"
   ]
  },
  {
   "cell_type": "code",
   "execution_count": 28,
   "id": "cdda9e18",
   "metadata": {},
   "outputs": [],
   "source": [
    "# array --> attribute of Series class\n",
    "convert_series_into_array = name_series.array"
   ]
  },
  {
   "cell_type": "code",
   "execution_count": null,
   "id": "61e045b7",
   "metadata": {},
   "outputs": [],
   "source": [
    "name_series.values"
   ]
  },
  {
   "cell_type": "code",
   "execution_count": null,
   "id": "2b0b7e35",
   "metadata": {},
   "outputs": [],
   "source": [
    "name_series.dtype"
   ]
  },
  {
   "cell_type": "code",
   "execution_count": null,
   "id": "34039b8d",
   "metadata": {},
   "outputs": [],
   "source": [
    "name_series.shape"
   ]
  },
  {
   "cell_type": "code",
   "execution_count": null,
   "id": "07bc548c",
   "metadata": {},
   "outputs": [],
   "source": []
  },
  {
   "cell_type": "code",
   "execution_count": null,
   "id": "6425022d",
   "metadata": {},
   "outputs": [],
   "source": []
  },
  {
   "cell_type": "code",
   "execution_count": null,
   "id": "d20228a6",
   "metadata": {},
   "outputs": [],
   "source": []
  },
  {
   "cell_type": "code",
   "execution_count": null,
   "id": "f9b97f78",
   "metadata": {},
   "outputs": [],
   "source": []
  },
  {
   "cell_type": "code",
   "execution_count": null,
   "id": "4b999a3d",
   "metadata": {},
   "outputs": [],
   "source": []
  },
  {
   "cell_type": "code",
   "execution_count": null,
   "id": "679fb80a",
   "metadata": {},
   "outputs": [],
   "source": []
  },
  {
   "cell_type": "code",
   "execution_count": null,
   "id": "47896131",
   "metadata": {},
   "outputs": [],
   "source": []
  },
  {
   "cell_type": "code",
   "execution_count": null,
   "id": "96bd4804",
   "metadata": {},
   "outputs": [],
   "source": []
  },
  {
   "cell_type": "code",
   "execution_count": null,
   "id": "b7b2ce42",
   "metadata": {},
   "outputs": [],
   "source": []
  },
  {
   "cell_type": "code",
   "execution_count": null,
   "id": "9f780a65",
   "metadata": {},
   "outputs": [],
   "source": []
  },
  {
   "cell_type": "code",
   "execution_count": null,
   "id": "7873a093",
   "metadata": {},
   "outputs": [],
   "source": []
  },
  {
   "cell_type": "code",
   "execution_count": null,
   "id": "0b47df66",
   "metadata": {},
   "outputs": [],
   "source": [
    "\n"
   ]
  }
 ],
 "metadata": {
  "kernelspec": {
   "display_name": "Python 3 (ipykernel)",
   "language": "python",
   "name": "python3"
  },
  "language_info": {
   "codemirror_mode": {
    "name": "ipython",
    "version": 3
   },
   "file_extension": ".py",
   "mimetype": "text/x-python",
   "name": "python",
   "nbconvert_exporter": "python",
   "pygments_lexer": "ipython3",
   "version": "3.10.9"
  }
 },
 "nbformat": 4,
 "nbformat_minor": 5
}
